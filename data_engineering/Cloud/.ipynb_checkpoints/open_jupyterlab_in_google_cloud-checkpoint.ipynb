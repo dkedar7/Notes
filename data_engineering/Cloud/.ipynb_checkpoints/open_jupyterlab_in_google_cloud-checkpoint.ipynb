{
 "cells": [
  {
   "cell_type": "raw",
   "id": "featured-profit",
   "metadata": {},
   "source": [
    "---\n",
    "title: \"Open Jupyter Lab on Google Cloud VM\"\n",
    "author: \"Kedar Dabhadkar\"\n",
    "date: 2021-02-23T05:46:18.464519\n",
    "description: \"How to open a Jupyter Lab or Juyter Notebook on a Google Cloud Machine\"\n",
    "type: technical_note\n",
    "draft: false\n",
    "---"
   ]
  },
  {
   "cell_type": "markdown",
   "id": "accredited-trader",
   "metadata": {},
   "source": [
    "### Step 1. Install Google Cloud "
   ]
  },
  {
   "cell_type": "markdown",
   "id": "clear-albania",
   "metadata": {},
   "source": [
    "Follow instruacions to install Google Cloud SDK here: https://cloud.google.com/sdk/docs/install#mac"
   ]
  },
  {
   "cell_type": "markdown",
   "id": "tested-diagnosis",
   "metadata": {},
   "source": [
    "### Step 2. Sign in into Google Cloud from the CLI and set a default project"
   ]
  },
  {
   "cell_type": "markdown",
   "id": "caroline-junction",
   "metadata": {},
   "source": [
    "gcloud init"
   ]
  },
  {
   "cell_type": "markdown",
   "id": "differential-immune",
   "metadata": {},
   "source": [
    "### Step 3. Provision a VM from the Google Cloud Console"
   ]
  },
  {
   "cell_type": "markdown",
   "id": "strong-irish",
   "metadata": {},
   "source": [
    "https://console.cloud.google.com/home/dashboard"
   ]
  },
  {
   "cell_type": "markdown",
   "id": "parallel-departure",
   "metadata": {},
   "source": [
    "### Step 4. Enter this command to connect to VM from the terminal"
   ]
  },
  {
   "cell_type": "markdown",
   "id": "industrial-server",
   "metadata": {},
   "source": [
    "gcloud compute ssh {instance-name} --ssh-flag=\"-L 8888:localhost:8888\""
   ]
  },
  {
   "cell_type": "markdown",
   "id": "generic-lemon",
   "metadata": {},
   "source": [
    "### Step 5. Launch Jupyter Lab from the instance"
   ]
  },
  {
   "cell_type": "markdown",
   "id": "vietnamese-assets",
   "metadata": {},
   "source": [
    "jupyter lab --port=8888"
   ]
  }
 ],
 "metadata": {
  "kernelspec": {
   "display_name": "Python 3",
   "language": "python",
   "name": "python3"
  },
  "language_info": {
   "codemirror_mode": {
    "name": "ipython",
    "version": 3
   },
   "file_extension": ".py",
   "mimetype": "text/x-python",
   "name": "python",
   "nbconvert_exporter": "python",
   "pygments_lexer": "ipython3",
   "version": "3.7.9"
  }
 },
 "nbformat": 4,
 "nbformat_minor": 5
}
