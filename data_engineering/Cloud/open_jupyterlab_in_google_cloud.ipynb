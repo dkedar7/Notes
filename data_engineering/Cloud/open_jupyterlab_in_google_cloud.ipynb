{
 "cells": [
  {
   "cell_type": "raw",
   "id": "blind-comparison",
   "metadata": {},
   "source": [
    "---\n",
    "title: \"Open Jupyter Lab on Google Cloud VM\"\n",
    "author: \"Kedar Dabhadkar\"\n",
    "date: 2021-02-22T05:46:18.464519\n",
    "description: \"How to open a Jupyter Lab or Juyter Notebook on a Google Cloud Machine\"\n",
    "type: technical_note\n",
    "draft: false\n",
    "---"
   ]
  },
  {
   "cell_type": "markdown",
   "id": "distributed-bahrain",
   "metadata": {},
   "source": [
    "### Step 1. Install Google Cloud "
   ]
  },
  {
   "cell_type": "markdown",
   "id": "academic-tract",
   "metadata": {},
   "source": [
    "Follow the instructions to install Google Cloud SDK here: https://cloud.google.com/sdk/docs/install#mac"
   ]
  },
  {
   "cell_type": "markdown",
   "id": "fourth-treasurer",
   "metadata": {},
   "source": [
    "### Step 2. Sign in into Google Cloud from the CLI and set a default project"
   ]
  },
  {
   "cell_type": "markdown",
   "id": "dependent-words",
   "metadata": {},
   "source": [
    "gcloud init"
   ]
  },
  {
   "cell_type": "markdown",
   "id": "aquatic-transmission",
   "metadata": {},
   "source": [
    "### Step 3. Provision a VM from the Google Cloud Console"
   ]
  },
  {
   "cell_type": "markdown",
   "id": "civic-apparatus",
   "metadata": {},
   "source": [
    "https://console.cloud.google.com/home/dashboard"
   ]
  },
  {
   "cell_type": "markdown",
   "id": "japanese-tennessee",
   "metadata": {},
   "source": [
    "### Step 4. Enter this command to connect to VM from the terminal"
   ]
  },
  {
   "cell_type": "markdown",
   "id": "toxic-friendly",
   "metadata": {},
   "source": [
    "gcloud compute ssh {instance-name} --ssh-flag=\"-L 8888:localhost:8888\""
   ]
  },
  {
   "cell_type": "markdown",
   "id": "exempt-remains",
   "metadata": {},
   "source": [
    "### Step 5. Launch Jupyter Lab from the instance"
   ]
  },
  {
   "cell_type": "markdown",
   "id": "settled-librarian",
   "metadata": {},
   "source": [
    "jupyter lab --port=8888"
   ]
  }
 ],
 "metadata": {
  "kernelspec": {
   "display_name": "Python 3",
   "language": "python",
   "name": "python3"
  },
  "language_info": {
   "codemirror_mode": {
    "name": "ipython",
    "version": 3
   },
   "file_extension": ".py",
   "mimetype": "text/x-python",
   "name": "python",
   "nbconvert_exporter": "python",
   "pygments_lexer": "ipython3",
   "version": "3.7.10"
  }
 },
 "nbformat": 4,
 "nbformat_minor": 5
}
