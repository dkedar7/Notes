{
 "cells": [
  {
   "cell_type": "raw",
   "id": "opponent-ratio",
   "metadata": {},
   "source": [
    "---\n",
    "title: \"Open Jupyter Lab on Google Cloud VM\"\n",
    "author: \"Kedar Dabhadkar\"\n",
    "date: 2021-02-22T05:46:18.464519\n",
    "description: \"How to open a Jupyter Lab or Juyter Notebook on a Google Cloud Machine\"\n",
    "type: technical_note\n",
    "draft: false\n",
    "---"
   ]
  },
  {
   "cell_type": "markdown",
   "id": "racial-question",
   "metadata": {},
   "source": [
    "### Step 1. Install Google Cloud "
   ]
  },
  {
   "cell_type": "markdown",
   "id": "worth-vector",
   "metadata": {},
   "source": [
    "Follow instruacions to install Google Cloud SDK here: https://cloud.google.com/sdk/docs/install#mac"
   ]
  },
  {
   "cell_type": "markdown",
   "id": "impressive-peter",
   "metadata": {},
   "source": [
    "### Step 2. Sign in into Google Cloud from the CLI and set a default project"
   ]
  },
  {
   "cell_type": "markdown",
   "id": "mounted-dubai",
   "metadata": {},
   "source": [
    "gcloud init"
   ]
  },
  {
   "cell_type": "markdown",
   "id": "intermediate-movie",
   "metadata": {},
   "source": [
    "### Step 3. Provision a VM from the Google Cloud Console"
   ]
  },
  {
   "cell_type": "markdown",
   "id": "solar-victorian",
   "metadata": {},
   "source": [
    "https://console.cloud.google.com/home/dashboard"
   ]
  },
  {
   "cell_type": "markdown",
   "id": "private-arrest",
   "metadata": {},
   "source": [
    "### Step 4. Enter this command to connect to VM from the terminal"
   ]
  },
  {
   "cell_type": "markdown",
   "id": "comparative-anthony",
   "metadata": {},
   "source": [
    "gcloud compute ssh {instance-name} --ssh-flag=\"-L 8888:localhost:8888\""
   ]
  },
  {
   "cell_type": "markdown",
   "id": "announced-brazilian",
   "metadata": {},
   "source": [
    "### Step 5. Launch Jupyter Lab from the instance"
   ]
  },
  {
   "cell_type": "markdown",
   "id": "prescription-association",
   "metadata": {},
   "source": [
    "jupyter lab --port=8888"
   ]
  }
 ],
 "metadata": {
  "kernelspec": {
   "display_name": "Python 3",
   "language": "python",
   "name": "python3"
  },
  "language_info": {
   "codemirror_mode": {
    "name": "ipython",
    "version": 3
   },
   "file_extension": ".py",
   "mimetype": "text/x-python",
   "name": "python",
   "nbconvert_exporter": "python",
   "pygments_lexer": "ipython3",
   "version": "3.7.9"
  }
 },
 "nbformat": 4,
 "nbformat_minor": 5
}
