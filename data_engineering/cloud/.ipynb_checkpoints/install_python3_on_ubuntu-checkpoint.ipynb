{
 "cells": [
  {
   "cell_type": "raw",
   "id": "worldwide-elimination",
   "metadata": {},
   "source": [
    "---\n",
    "title: \"Install Python 3 on Ubuntu\"\n",
    "author: \"Kedar Dabhadkar\"\n",
    "date: 2021-02-22T05:46:18.464519\n",
    "description: \"Steps to install Python3.7 on an Ubuntu machine.\"\n",
    "type: technical_note\n",
    "draft: false\n",
    "---"
   ]
  },
  {
   "cell_type": "markdown",
   "id": "naughty-treatment",
   "metadata": {},
   "source": [
    "## Setup Python3.7 on a newly configured Ubuntu Machine"
   ]
  },
  {
   "cell_type": "markdown",
   "id": "herbal-setting",
   "metadata": {},
   "source": [
    "sudo apt update <br>\n",
    "\n",
    "sudo add-apt-repository ppa:deadsnakes/ppa <br>\n",
    "sudo apt-get update <br>\n",
    "sudo apt-get install python3.7 <br>\n",
    "sudo apt-get install python3.7-dev <br>\n",
    "sudo apt-get install python3.7-venv <br>\n",
    "sudo apt install python3-pip"
   ]
  }
 ],
 "metadata": {
  "kernelspec": {
   "display_name": "Python 3",
   "language": "python",
   "name": "python3"
  },
  "language_info": {
   "codemirror_mode": {
    "name": "ipython",
    "version": 3
   },
   "file_extension": ".py",
   "mimetype": "text/x-python",
   "name": "python",
   "nbconvert_exporter": "python",
   "pygments_lexer": "ipython3",
   "version": "3.7.9"
  }
 },
 "nbformat": 4,
 "nbformat_minor": 5
}
