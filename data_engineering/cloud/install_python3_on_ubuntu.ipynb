{
 "cells": [
  {
   "cell_type": "raw",
   "id": "elegant-shopping",
   "metadata": {},
   "source": [
    "---\n",
    "title: \"Install Python 3 on Ubuntu\"\n",
    "author: \"Kedar Dabhadkar\"\n",
    "date: 2021-02-22T05:46:18.464519\n",
    "description: \"Steps to install Python3.7 on an Ubuntu machine.\"\n",
    "type: technical_note\n",
    "draft: false\n",
    "---"
   ]
  },
  {
   "cell_type": "markdown",
   "id": "corporate-reader",
   "metadata": {},
   "source": [
    "### Setup Python3.7 on Ubuntu"
   ]
  },
  {
   "cell_type": "code",
   "execution_count": null,
   "id": "royal-irish",
   "metadata": {},
   "outputs": [],
   "source": [
    "I often use the"
   ]
  },
  {
   "cell_type": "code",
   "execution_count": null,
   "id": "experimental-hartford",
   "metadata": {},
   "outputs": [],
   "source": [
    "sudo apt update\n",
    "\n",
    "sudo add-apt-repository ppa:deadsnakes/ppa\n",
    "sudo apt-get update\n",
    "sudo apt-get install python3.7\n",
    "sudo apt-get install python3.7-dev\n",
    "sudo apt-get install python3.7-venv\n",
    "sudo apt install python3-pip"
   ]
  }
 ],
 "metadata": {
  "kernelspec": {
   "display_name": "Python 3",
   "language": "python",
   "name": "python3"
  },
  "language_info": {
   "codemirror_mode": {
    "name": "ipython",
    "version": 3
   },
   "file_extension": ".py",
   "mimetype": "text/x-python",
   "name": "python",
   "nbconvert_exporter": "python",
   "pygments_lexer": "ipython3",
   "version": "3.7.10"
  }
 },
 "nbformat": 4,
 "nbformat_minor": 5
}
