{
 "cells": [
  {
   "cell_type": "raw",
   "id": "modular-miller",
   "metadata": {},
   "source": [
    "---\n",
    "title: \"Connect Google VM to VS Code\"\n",
    "author: \"Kedar Dabhadkar\"\n",
    "date: 2021-05-30T05:46:18.464519\n",
    "description: \"How to connect a Google Vm to VS Code\"\n",
    "type: technical_note\n",
    "draft: false\n",
    "---"
   ]
  },
  {
   "cell_type": "markdown",
   "id": "light-gardening",
   "metadata": {},
   "source": [
    "### Connect Google VM to VS Code"
   ]
  },
  {
   "cell_type": "markdown",
   "id": "possible-slide",
   "metadata": {},
   "source": [
    "I do most of my development on a Google Cloud VM and I am a big fan of VS Code. For a long time, when programming on GCP, I only used the Jupyter IDE. After looking for a while, I was able to connet a GCP VM to VS Code. Here's how:"
   ]
  },
  {
   "cell_type": "markdown",
   "id": "turkish-congress",
   "metadata": {},
   "source": [
    "#### Step 1. Create an SSH key locally"
   ]
  },
  {
   "cell_type": "raw",
   "id": "existing-morocco",
   "metadata": {},
   "source": [
    "ssh-keygen -t rsa -f ~/.ssh/[KEY_FILENAME] -C [USERNAME]"
   ]
  },
  {
   "cell_type": "markdown",
   "id": "hawaiian-adjustment",
   "metadata": {},
   "source": [
    "[KEY_FILENAME] is any name that you want to give to your key and [USERNAME] is usually the first half of your email address (username@gmail.com)."
   ]
  },
  {
   "cell_type": "markdown",
   "id": "liked-concord",
   "metadata": {},
   "source": [
    "This generates a private and a public key on the VM."
   ]
  },
  {
   "cell_type": "markdown",
   "id": "maritime-venue",
   "metadata": {},
   "source": [
    "Don't forget to change the permissions on your key:"
   ]
  },
  {
   "cell_type": "code",
   "execution_count": 2,
   "id": "peripheral-wichita",
   "metadata": {},
   "outputs": [],
   "source": [
    "chmod 400 ~/.ssh/[KEY_FILENAME]"
   ]
  },
  {
   "cell_type": "markdown",
   "id": "cheap-clinic",
   "metadata": {},
   "source": [
    "#### Step 2. Add the key to GCP VM"
   ]
  },
  {
   "cell_type": "markdown",
   "id": "funded-pharmaceutical",
   "metadata": {},
   "source": [
    "Go to the GCP instance -> \"SSH Keys\" -> click \"Show and edit\". "
   ]
  },
  {
   "cell_type": "markdown",
   "id": "facial-coffee",
   "metadata": {},
   "source": [
    "Copy contents of the public ssh key [KEY_FILENAME].pub and paste it on the GCP console window."
   ]
  },
  {
   "cell_type": "markdown",
   "id": "quick-adolescent",
   "metadata": {},
   "source": [
    "#### Step 3. Install the SSH plugin on VS Code"
   ]
  },
  {
   "cell_type": "markdown",
   "id": "measured-feedback",
   "metadata": {},
   "source": [
    "Install this plugin on VS Code: https://marketplace.visualstudio.com/items?itemName=ms-vscode-remote.remote-ssh-edit"
   ]
  },
  {
   "cell_type": "markdown",
   "id": "future-irish",
   "metadata": {},
   "source": [
    "#### Step 4. Add SSH Host to VS Code"
   ]
  },
  {
   "cell_type": "markdown",
   "id": "cardiovascular-baking",
   "metadata": {},
   "source": [
    "Bring up the command palette on VS Code using \"Cmd+Shift+p\". Select \"Remote - SSH: Add New SSH Host\""
   ]
  },
  {
   "cell_type": "markdown",
   "id": "improving-biography",
   "metadata": {},
   "source": [
    "Enter the following SSH command and add it to the default config file"
   ]
  },
  {
   "cell_type": "code",
   "execution_count": null,
   "id": "impossible-pavilion",
   "metadata": {},
   "outputs": [],
   "source": [
    "ssh -i ~/.ssh/[KEY_FILENAME] [USERNAME]@[External IP]"
   ]
  },
  {
   "cell_type": "markdown",
   "id": "industrial-praise",
   "metadata": {},
   "source": [
    "#### Step 5. Connect to the VM!"
   ]
  },
  {
   "cell_type": "markdown",
   "id": "worse-decimal",
   "metadata": {},
   "source": [
    "Select the remote explorer plugin icon from the left and connect to the VM!"
   ]
  },
  {
   "cell_type": "markdown",
   "id": "interesting-psychiatry",
   "metadata": {},
   "source": [
    "#### Read more"
   ]
  },
  {
   "cell_type": "markdown",
   "id": "exposed-monitoring",
   "metadata": {},
   "source": [
    "https://towardsdatascience.com/unleash-the-power-of-visual-studio-code-vscode-on-google-cloud-platform-virtual-machine-f75f78f49aee"
   ]
  }
 ],
 "metadata": {
  "kernelspec": {
   "display_name": "Python 3",
   "language": "python",
   "name": "python3"
  },
  "language_info": {
   "codemirror_mode": {
    "name": "ipython",
    "version": 3
   },
   "file_extension": ".py",
   "mimetype": "text/x-python",
   "name": "python",
   "nbconvert_exporter": "python",
   "pygments_lexer": "ipython3",
   "version": "3.7.10"
  }
 },
 "nbformat": 4,
 "nbformat_minor": 5
}
