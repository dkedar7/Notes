{
 "cells": [
  {
   "cell_type": "raw",
   "id": "fossil-relative",
   "metadata": {},
   "source": [
    "---\n",
    "title: \"Build a local Python package\"\n",
    "author: \"Kedar Dabhadkar\"\n",
    "date: 2021-05-23T05:46:18.464519\n",
    "description: \"Build a local Python package\"\n",
    "type: technical_note\n",
    "draft: true\n",
    "---"
   ]
  },
  {
   "cell_type": "markdown",
   "id": "innocent-moral",
   "metadata": {},
   "source": [
    "### Make a Local Python Package"
   ]
  },
  {
   "cell_type": "raw",
   "id": "engaging-therapist",
   "metadata": {},
   "source": [
    "Often, we use the the same piece of code repetitively. This especially becomes cumbersome when the code is long and poorly commented. Think of that Matplotlib visualization that you once wrote to make some charts stand out, or the number of times you wrote \"import numpy as np\", \"import pandas as pd\" or simply the database server and credential details. Did you know that you can avoid that repetition by installing a locally built Python package across all of your environments?"
   ]
  },
  {
   "cell_type": "raw",
   "id": "effective-charm",
   "metadata": {},
   "source": [
    "Let me try to demonstrate how you can do that using just the most basic code required."
   ]
  },
  {
   "cell_type": "raw",
   "id": "warming-apache",
   "metadata": {},
   "source": [
    "I will build a Python package named 'toolbox' and include a function to calculate the roots of a quadratic equation."
   ]
  },
  {
   "cell_type": "markdown",
   "id": "distinguished-taste",
   "metadata": {},
   "source": [
    "#### Step 1. Build this directory structure"
   ]
  },
  {
   "cell_type": "raw",
   "id": "assured-dining",
   "metadata": {},
   "source": [
    "- toolbox/\n",
    "    - setup.py\n",
    "    - toolbox/\n",
    "        - __init__.py\n",
    "        - roots.py"
   ]
  },
  {
   "cell_type": "markdown",
   "id": "municipal-announcement",
   "metadata": {},
   "source": [
    "#### Step 2. Write your Python function"
   ]
  },
  {
   "cell_type": "raw",
   "id": "beneficial-trade",
   "metadata": {},
   "source": [
    "Populate database.py with your repetitive code. In my case, my fake database credentials"
   ]
  },
  {
   "cell_type": "code",
   "execution_count": 3,
   "id": "selected-bernard",
   "metadata": {},
   "outputs": [],
   "source": [
    "def get_roots_quadratic(a, b, c):\n",
    "    \"\"\"\n",
    "    Returns the roots of a quadratic equation using the coefficients.\n",
    "    \"\"\"\n",
    "    root1 = (-b + ((b ** 2) - (4 * a * c)) ** 0.5) / 2 * a\n",
    "    root2 = (-b - ((b ** 2) - (4 * a * c)) ** 0.5) / 2 * a\n",
    "    \n",
    "    return root1, root2"
   ]
  },
  {
   "cell_type": "markdown",
   "id": "prescribed-identifier",
   "metadata": {},
   "source": [
    "#### Step 4. Populate setup.py"
   ]
  },
  {
   "cell_type": "markdown",
   "id": "friendly-inspection",
   "metadata": {},
   "source": [
    "From the root directory, edit setup.py"
   ]
  },
  {
   "cell_type": "code",
   "execution_count": 7,
   "id": "computational-signature",
   "metadata": {},
   "outputs": [],
   "source": [
    "import setuptools\n",
    "\n",
    "setuptools.setup(name='toolbox',\n",
    "                version='0.0.1',\n",
    "                descrption='Save frequently used scripts',\n",
    "                packages=setuptools.find_packages(),\n",
    "                zip_safe=False)"
   ]
  },
  {
   "cell_type": "markdown",
   "id": "radical-harrison",
   "metadata": {},
   "source": [
    "#### Step 5. Install your new package"
   ]
  },
  {
   "cell_type": "markdown",
   "id": "micro-apollo",
   "metadata": {},
   "source": [
    "Go to the root directory and install your package"
   ]
  },
  {
   "cell_type": "code",
   "execution_count": null,
   "id": "selected-custom",
   "metadata": {},
   "outputs": [],
   "source": [
    "pip install ."
   ]
  },
  {
   "cell_type": "code",
   "execution_count": null,
   "id": "bright-master",
   "metadata": {},
   "outputs": [],
   "source": []
  },
  {
   "cell_type": "markdown",
   "id": "treated-moral",
   "metadata": {},
   "source": [
    "#### Use your package"
   ]
  },
  {
   "cell_type": "code",
   "execution_count": 11,
   "id": "manufactured-poultry",
   "metadata": {},
   "outputs": [
    {
     "data": {
      "text/plain": [
       "(1.0, 1.0)"
      ]
     },
     "execution_count": 11,
     "metadata": {},
     "output_type": "execute_result"
    }
   ],
   "source": [
    "from toolbox import roots\n",
    "\n",
    "get_roots_quadratic(1, -2, 1)"
   ]
  }
 ],
 "metadata": {
  "kernelspec": {
   "display_name": "Python 3",
   "language": "python",
   "name": "python3"
  },
  "language_info": {
   "codemirror_mode": {
    "name": "ipython",
    "version": 3
   },
   "file_extension": ".py",
   "mimetype": "text/x-python",
   "name": "python",
   "nbconvert_exporter": "python",
   "pygments_lexer": "ipython3",
   "version": "3.7.10"
  }
 },
 "nbformat": 4,
 "nbformat_minor": 5
}
