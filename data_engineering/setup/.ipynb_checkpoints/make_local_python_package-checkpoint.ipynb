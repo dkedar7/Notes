{
 "cells": [
  {
   "cell_type": "raw",
   "id": "civic-exhibit",
   "metadata": {},
   "source": [
    "---\n",
    "title: \"Build a local Python package\"\n",
    "author: \"Kedar Dabhadkar\"\n",
    "date: 2021-05-23T05:46:18.464519\n",
    "description: \"Build a local Python package\"\n",
    "type: technical_note\n",
    "draft: false\n",
    "---"
   ]
  },
  {
   "cell_type": "markdown",
   "id": "comparable-record",
   "metadata": {},
   "source": [
    "### Make a Local Python Package"
   ]
  },
  {
   "cell_type": "markdown",
   "id": "coated-nursing",
   "metadata": {},
   "source": [
    "How do you ensure that you reduce redundancy when writing Python code? Think about that Matplotlib code that you once wrote to add a cool new element to your charts, or the number of times you had to copy-paste the server name of your database. Did you know that you can avoid that repetition by installing a locally built Python package across your environment?"
   ]
  },
  {
   "cell_type": "markdown",
   "id": "international-cornwall",
   "metadata": {},
   "source": [
    "Let me demonstrate how you can do that using just the most basic code required."
   ]
  },
  {
   "cell_type": "markdown",
   "id": "formal-wealth",
   "metadata": {},
   "source": [
    "Let's build a Python package named 'toolbox' and include a function to find the roots of a quadratic equation."
   ]
  },
  {
   "cell_type": "markdown",
   "id": "manufactured-litigation",
   "metadata": {},
   "source": [
    "#### Step 1. Build this directory structure"
   ]
  },
  {
   "cell_type": "raw",
   "id": "color-avenue",
   "metadata": {},
   "source": [
    "- toolbox/\n",
    "    - setup.py\n",
    "    - toolbox/\n",
    "        - __init__.py\n",
    "        - roots.py"
   ]
  },
  {
   "cell_type": "markdown",
   "id": "primary-thanks",
   "metadata": {},
   "source": [
    "#### Step 2. Write your Python function"
   ]
  },
  {
   "cell_type": "raw",
   "id": "acquired-collect",
   "metadata": {},
   "source": [
    "Populate database.py with your repetitive code. In my case, my fake database credentials"
   ]
  },
  {
   "cell_type": "code",
   "execution_count": 3,
   "id": "interpreted-telephone",
   "metadata": {},
   "outputs": [],
   "source": [
    "def get_roots_quadratic(a, b, c):\n",
    "    \"\"\"\n",
    "    Returns the roots of a quadratic equation using the coefficients.\n",
    "    \"\"\"\n",
    "    root1 = (-b + ((b ** 2) - (4 * a * c)) ** 0.5) / 2 * a\n",
    "    root2 = (-b - ((b ** 2) - (4 * a * c)) ** 0.5) / 2 * a\n",
    "    \n",
    "    return root1, root2"
   ]
  },
  {
   "cell_type": "markdown",
   "id": "continental-portfolio",
   "metadata": {},
   "source": [
    "#### Step 4. Populate setup.py"
   ]
  },
  {
   "cell_type": "markdown",
   "id": "understood-appearance",
   "metadata": {},
   "source": [
    "From the root directory, edit setup.py"
   ]
  },
  {
   "cell_type": "code",
   "execution_count": 7,
   "id": "focused-ecology",
   "metadata": {},
   "outputs": [],
   "source": [
    "import setuptools\n",
    "\n",
    "setuptools.setup(name='toolbox',\n",
    "                version='0.0.1',\n",
    "                descrption='Save frequently used scripts',\n",
    "                packages=setuptools.find_packages(),\n",
    "                zip_safe=False)"
   ]
  },
  {
   "cell_type": "markdown",
   "id": "entertaining-frequency",
   "metadata": {},
   "source": [
    "#### Step 5. Install your new package"
   ]
  },
  {
   "cell_type": "markdown",
   "id": "contained-soviet",
   "metadata": {},
   "source": [
    "Go to the root directory and install your package"
   ]
  },
  {
   "cell_type": "code",
   "execution_count": null,
   "id": "rough-delicious",
   "metadata": {},
   "outputs": [],
   "source": [
    "pip install ."
   ]
  },
  {
   "cell_type": "code",
   "execution_count": null,
   "id": "official-austin",
   "metadata": {},
   "outputs": [],
   "source": []
  },
  {
   "cell_type": "markdown",
   "id": "dependent-bullet",
   "metadata": {},
   "source": [
    "#### Use your package"
   ]
  },
  {
   "cell_type": "code",
   "execution_count": 11,
   "id": "crazy-works",
   "metadata": {},
   "outputs": [
    {
     "data": {
      "text/plain": [
       "(1.0, 1.0)"
      ]
     },
     "execution_count": 11,
     "metadata": {},
     "output_type": "execute_result"
    }
   ],
   "source": [
    "from toolbox import roots\n",
    "\n",
    "get_roots_quadratic(1, -2, 1)"
   ]
  }
 ],
 "metadata": {
  "kernelspec": {
   "display_name": "Python 3",
   "language": "python",
   "name": "python3"
  },
  "language_info": {
   "codemirror_mode": {
    "name": "ipython",
    "version": 3
   },
   "file_extension": ".py",
   "mimetype": "text/x-python",
   "name": "python",
   "nbconvert_exporter": "python",
   "pygments_lexer": "ipython3",
   "version": "3.7.10"
  }
 },
 "nbformat": 4,
 "nbformat_minor": 5
}
