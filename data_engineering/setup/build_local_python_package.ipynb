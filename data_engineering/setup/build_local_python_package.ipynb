{
 "cells": [
  {
   "cell_type": "raw",
   "id": "coordinate-button",
   "metadata": {},
   "source": [
    "---\n",
    "title: \"Build a local Python package\"\n",
    "author: \"Kedar Dabhadkar\"\n",
    "date: 2021-05-23T05:46:18.464519\n",
    "description: \"Build a local Python package\"\n",
    "type: technical_note\n",
    "draft: false\n",
    "---"
   ]
  },
  {
   "cell_type": "markdown",
   "id": "sought-tragedy",
   "metadata": {},
   "source": [
    "### Build a Local Python Package"
   ]
  },
  {
   "cell_type": "markdown",
   "id": "continental-notion",
   "metadata": {},
   "source": [
    "How do you ensure that you reduce redundancy when writing Python code? Think about that Matplotlib code that you once wrote to add a cool new element to your charts, or the number of times you had to copy-paste the server name of your database. Did you know that you can avoid that repetition by installing a locally built Python package across your environment?"
   ]
  },
  {
   "cell_type": "markdown",
   "id": "exciting-idaho",
   "metadata": {},
   "source": [
    "Let me demonstrate how you can do that using just the most basic code required."
   ]
  },
  {
   "cell_type": "markdown",
   "id": "whole-liabilities",
   "metadata": {},
   "source": [
    "Let's build a Python package named 'toolbox' and include a function to find the roots of a quadratic equation."
   ]
  },
  {
   "cell_type": "markdown",
   "id": "sticky-origin",
   "metadata": {},
   "source": [
    "#### Step 1. Build this directory structure"
   ]
  },
  {
   "cell_type": "raw",
   "id": "desirable-request",
   "metadata": {},
   "source": [
    "- toolbox/\n",
    "    - setup.py\n",
    "    - toolbox/\n",
    "        - \\__init__.py\n",
    "        - roots.py"
   ]
  },
  {
   "cell_type": "markdown",
   "id": "detected-choir",
   "metadata": {},
   "source": [
    "#### Step 2. Write your Python function"
   ]
  },
  {
   "cell_type": "markdown",
   "id": "alleged-dover",
   "metadata": {},
   "source": [
    "Populate roots.py with your repetitive code. In my case, the function to find out roots of a quadratic"
   ]
  },
  {
   "cell_type": "code",
   "execution_count": 3,
   "id": "packed-residence",
   "metadata": {},
   "outputs": [],
   "source": [
    "def get_roots_quadratic(a, b, c):\n",
    "    \"\"\"\n",
    "    Returns the roots of a quadratic equation using the coefficients.\n",
    "    \"\"\"\n",
    "    root1 = (-b + ((b ** 2) - (4 * a * c)) ** 0.5) / 2 * a\n",
    "    root2 = (-b - ((b ** 2) - (4 * a * c)) ** 0.5) / 2 * a\n",
    "    \n",
    "    return root1, root2"
   ]
  },
  {
   "cell_type": "markdown",
   "id": "serial-valuable",
   "metadata": {},
   "source": [
    "#### Step 4. Populate setup.py"
   ]
  },
  {
   "cell_type": "markdown",
   "id": "hired-reputation",
   "metadata": {},
   "source": [
    "From the root directory, edit setup.py"
   ]
  },
  {
   "cell_type": "code",
   "execution_count": 7,
   "id": "about-elephant",
   "metadata": {},
   "outputs": [],
   "source": [
    "import setuptools\n",
    "\n",
    "setuptools.setup(name='toolbox',\n",
    "                version='0.0.1',\n",
    "                descrption='Save frequently used scripts',\n",
    "                packages=setuptools.find_packages(),\n",
    "                zip_safe=False)"
   ]
  },
  {
   "cell_type": "markdown",
   "id": "instrumental-benjamin",
   "metadata": {},
   "source": [
    "#### Step 5. Install your new package"
   ]
  },
  {
   "cell_type": "markdown",
   "id": "funded-database",
   "metadata": {},
   "source": [
    "Go to the root directory and install your package"
   ]
  },
  {
   "cell_type": "code",
   "execution_count": null,
   "id": "sufficient-russia",
   "metadata": {},
   "outputs": [],
   "source": [
    "pip install ."
   ]
  },
  {
   "cell_type": "markdown",
   "id": "deluxe-milton",
   "metadata": {},
   "source": [
    "#### Use your package"
   ]
  },
  {
   "cell_type": "code",
   "execution_count": 11,
   "id": "impossible-biotechnology",
   "metadata": {},
   "outputs": [
    {
     "data": {
      "text/plain": [
       "(1.0, 1.0)"
      ]
     },
     "execution_count": 11,
     "metadata": {},
     "output_type": "execute_result"
    }
   ],
   "source": [
    "from toolbox import roots\n",
    "\n",
    "get_roots_quadratic(1, -2, 1)"
   ]
  },
  {
   "cell_type": "markdown",
   "id": "focal-engineering",
   "metadata": {},
   "source": [
    "#### Read more"
   ]
  },
  {
   "cell_type": "markdown",
   "id": "informational-ferry",
   "metadata": {},
   "source": [
    "Learn about adding additional features and publishing your package to PyPI: https://www.freecodecamp.org/news/build-your-first-python-package/"
   ]
  }
 ],
 "metadata": {
  "kernelspec": {
   "display_name": "Python 3",
   "language": "python",
   "name": "python3"
  },
  "language_info": {
   "codemirror_mode": {
    "name": "ipython",
    "version": 3
   },
   "file_extension": ".py",
   "mimetype": "text/x-python",
   "name": "python",
   "nbconvert_exporter": "python",
   "pygments_lexer": "ipython3",
   "version": "3.7.10"
  }
 },
 "nbformat": 4,
 "nbformat_minor": 5
}
