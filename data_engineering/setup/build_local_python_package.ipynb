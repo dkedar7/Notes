{
 "cells": [
  {
   "cell_type": "raw",
   "id": "bound-rally",
   "metadata": {},
   "source": [
    "---\n",
    "title: \"Build a local Python package\"\n",
    "author: \"Kedar Dabhadkar\"\n",
    "date: 2021-05-23T05:46:18.464519\n",
    "description: \"Build a local Python package\"\n",
    "type: technical_note\n",
    "draft: false\n",
    "---"
   ]
  },
  {
   "cell_type": "markdown",
   "id": "average-fruit",
   "metadata": {},
   "source": [
    "### Build a Local Python Package"
   ]
  },
  {
   "cell_type": "markdown",
   "id": "resistant-sherman",
   "metadata": {},
   "source": [
    "How do you ensure that you reduce redundancy when writing Python code? Think about that Matplotlib code that you once wrote to add a cool new element to your charts, or the number of times you had to copy-paste the server name of your database. Did you know that you can avoid that repetition by installing a locally built Python package across your environment?"
   ]
  },
  {
   "cell_type": "markdown",
   "id": "unsigned-cement",
   "metadata": {},
   "source": [
    "Let me demonstrate how you can do that using just the most basic code required."
   ]
  },
  {
   "cell_type": "markdown",
   "id": "aging-appraisal",
   "metadata": {},
   "source": [
    "Let's build a Python package named 'toolbox' and include a function to find the roots of a quadratic equation."
   ]
  },
  {
   "cell_type": "markdown",
   "id": "capital-thread",
   "metadata": {},
   "source": [
    "#### Step 1. Build this directory structure"
   ]
  },
  {
   "cell_type": "raw",
   "id": "crazy-local",
   "metadata": {},
   "source": [
    "- toolbox/\n",
    "    - setup.py\n",
    "    - toolbox/\n",
    "        - \\__init__.py\n",
    "        - roots.py"
   ]
  },
  {
   "cell_type": "markdown",
   "id": "alternate-assist",
   "metadata": {},
   "source": [
    "#### Step 2. Write your Python function"
   ]
  },
  {
   "cell_type": "raw",
   "id": "bulgarian-garlic",
   "metadata": {},
   "source": [
    "Populate database.py with your repetitive code. In my case, my fake database credentials"
   ]
  },
  {
   "cell_type": "code",
   "execution_count": 3,
   "id": "contained-strength",
   "metadata": {},
   "outputs": [],
   "source": [
    "def get_roots_quadratic(a, b, c):\n",
    "    \"\"\"\n",
    "    Returns the roots of a quadratic equation using the coefficients.\n",
    "    \"\"\"\n",
    "    root1 = (-b + ((b ** 2) - (4 * a * c)) ** 0.5) / 2 * a\n",
    "    root2 = (-b - ((b ** 2) - (4 * a * c)) ** 0.5) / 2 * a\n",
    "    \n",
    "    return root1, root2"
   ]
  },
  {
   "cell_type": "markdown",
   "id": "maritime-spain",
   "metadata": {},
   "source": [
    "#### Step 4. Populate setup.py"
   ]
  },
  {
   "cell_type": "markdown",
   "id": "industrial-jurisdiction",
   "metadata": {},
   "source": [
    "From the root directory, edit setup.py"
   ]
  },
  {
   "cell_type": "code",
   "execution_count": 7,
   "id": "expressed-rachel",
   "metadata": {},
   "outputs": [],
   "source": [
    "import setuptools\n",
    "\n",
    "setuptools.setup(name='toolbox',\n",
    "                version='0.0.1',\n",
    "                descrption='Save frequently used scripts',\n",
    "                packages=setuptools.find_packages(),\n",
    "                zip_safe=False)"
   ]
  },
  {
   "cell_type": "markdown",
   "id": "included-religious",
   "metadata": {},
   "source": [
    "#### Step 5. Install your new package"
   ]
  },
  {
   "cell_type": "markdown",
   "id": "olympic-mistake",
   "metadata": {},
   "source": [
    "Go to the root directory and install your package"
   ]
  },
  {
   "cell_type": "code",
   "execution_count": null,
   "id": "entitled-group",
   "metadata": {},
   "outputs": [],
   "source": [
    "pip install ."
   ]
  },
  {
   "cell_type": "markdown",
   "id": "verbal-tiger",
   "metadata": {},
   "source": [
    "#### Use your package"
   ]
  },
  {
   "cell_type": "code",
   "execution_count": 11,
   "id": "federal-dependence",
   "metadata": {},
   "outputs": [
    {
     "data": {
      "text/plain": [
       "(1.0, 1.0)"
      ]
     },
     "execution_count": 11,
     "metadata": {},
     "output_type": "execute_result"
    }
   ],
   "source": [
    "from toolbox import roots\n",
    "\n",
    "get_roots_quadratic(1, -2, 1)"
   ]
  }
 ],
 "metadata": {
  "kernelspec": {
   "display_name": "Python 3",
   "language": "python",
   "name": "python3"
  },
  "language_info": {
   "codemirror_mode": {
    "name": "ipython",
    "version": 3
   },
   "file_extension": ".py",
   "mimetype": "text/x-python",
   "name": "python",
   "nbconvert_exporter": "python",
   "pygments_lexer": "ipython3",
   "version": "3.7.10"
  }
 },
 "nbformat": 4,
 "nbformat_minor": 5
}
