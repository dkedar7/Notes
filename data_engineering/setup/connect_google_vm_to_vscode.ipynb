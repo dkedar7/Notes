{
 "cells": [
  {
   "cell_type": "raw",
   "id": "dependent-claim",
   "metadata": {},
   "source": [
    "---\n",
    "title: \"Connect Google VM to VS Code\"\n",
    "author: \"Kedar Dabhadkar\"\n",
    "date: 2021-05-30T05:46:18.464519\n",
    "description: \"How to connect a Google Vm to VS Code\"\n",
    "type: technical_note\n",
    "draft: true\n",
    "---"
   ]
  },
  {
   "cell_type": "markdown",
   "id": "particular-syracuse",
   "metadata": {},
   "source": [
    "### Connect Google VM to VS Code"
   ]
  },
  {
   "cell_type": "markdown",
   "id": "multiple-cancellation",
   "metadata": {},
   "source": [
    "I do most of my development on a Google Cloud and am a big fan of VS Code. For a long time, when programming on GCP, I only used the Jupyter IDE. After looking into how I can connect GCP to VS Code for a long time, I finally was able to do it. Here's how:"
   ]
  },
  {
   "cell_type": "markdown",
   "id": "proved-biography",
   "metadata": {},
   "source": [
    "#### Step 1. Create an SSH key locally"
   ]
  },
  {
   "cell_type": "raw",
   "id": "hired-fetish",
   "metadata": {},
   "source": [
    "ssh-keygen -t rsa -f ~/.ssh/[KEY_FILENAME] -C [USERNAME]"
   ]
  },
  {
   "cell_type": "markdown",
   "id": "fifteen-edward",
   "metadata": {},
   "source": [
    "[KEY_FILENAME] is any name that you want to give to your key and [USERNAME] is usually the first half of your email address (username@gmail.com)"
   ]
  },
  {
   "cell_type": "markdown",
   "id": "earned-welcome",
   "metadata": {},
   "source": [
    "This generates a private and a public key on the VM"
   ]
  },
  {
   "cell_type": "markdown",
   "id": "communist-gazette",
   "metadata": {},
   "source": [
    "Don't forget to change the permissions on your key"
   ]
  },
  {
   "cell_type": "code",
   "execution_count": 2,
   "id": "cutting-leave",
   "metadata": {},
   "outputs": [],
   "source": [
    "chmod 400 ~/.ssh/[KEY_FILENAME]"
   ]
  },
  {
   "cell_type": "markdown",
   "id": "incomplete-stadium",
   "metadata": {},
   "source": [
    "#### Step 2. Add the key to GCP VM"
   ]
  },
  {
   "cell_type": "raw",
   "id": "accepting-roots",
   "metadata": {},
   "source": [
    "Populate database.py with your repetitive code. In my case, my fake database credentials"
   ]
  },
  {
   "cell_type": "code",
   "execution_count": 3,
   "id": "novel-deficit",
   "metadata": {},
   "outputs": [],
   "source": [
    "def get_roots_quadratic(a, b, c):\n",
    "    \"\"\"\n",
    "    Returns the roots of a quadratic equation using the coefficients.\n",
    "    \"\"\"\n",
    "    root1 = (-b + ((b ** 2) - (4 * a * c)) ** 0.5) / 2 * a\n",
    "    root2 = (-b - ((b ** 2) - (4 * a * c)) ** 0.5) / 2 * a\n",
    "    \n",
    "    return root1, root2"
   ]
  },
  {
   "cell_type": "markdown",
   "id": "cubic-being",
   "metadata": {},
   "source": [
    "#### Step 4. Populate setup.py"
   ]
  },
  {
   "cell_type": "markdown",
   "id": "neither-cholesterol",
   "metadata": {},
   "source": [
    "From the root directory, edit setup.py"
   ]
  },
  {
   "cell_type": "code",
   "execution_count": 7,
   "id": "advance-flash",
   "metadata": {},
   "outputs": [],
   "source": [
    "import setuptools\n",
    "\n",
    "setuptools.setup(name='toolbox',\n",
    "                version='0.0.1',\n",
    "                descrption='Save frequently used scripts',\n",
    "                packages=setuptools.find_packages(),\n",
    "                zip_safe=False)"
   ]
  },
  {
   "cell_type": "markdown",
   "id": "moderate-illinois",
   "metadata": {},
   "source": [
    "#### Step 5. Install your new package"
   ]
  },
  {
   "cell_type": "markdown",
   "id": "dramatic-fundamental",
   "metadata": {},
   "source": [
    "Go to the root directory and install your package"
   ]
  },
  {
   "cell_type": "code",
   "execution_count": null,
   "id": "hollow-shareware",
   "metadata": {},
   "outputs": [],
   "source": [
    "pip install ."
   ]
  },
  {
   "cell_type": "markdown",
   "id": "specific-functionality",
   "metadata": {},
   "source": [
    "#### Use your package"
   ]
  },
  {
   "cell_type": "code",
   "execution_count": 11,
   "id": "mexican-oasis",
   "metadata": {},
   "outputs": [
    {
     "data": {
      "text/plain": [
       "(1.0, 1.0)"
      ]
     },
     "execution_count": 11,
     "metadata": {},
     "output_type": "execute_result"
    }
   ],
   "source": [
    "from toolbox import roots\n",
    "\n",
    "get_roots_quadratic(1, -2, 1)"
   ]
  },
  {
   "cell_type": "markdown",
   "id": "suburban-cooperative",
   "metadata": {},
   "source": [
    "#### Read more"
   ]
  },
  {
   "cell_type": "markdown",
   "id": "identified-addition",
   "metadata": {},
   "source": [
    "Learn about adding additional features and publishing your package to PyPI: https://www.freecodecamp.org/news/build-your-first-python-package/"
   ]
  }
 ],
 "metadata": {
  "kernelspec": {
   "display_name": "Python 3",
   "language": "python",
   "name": "python3"
  },
  "language_info": {
   "codemirror_mode": {
    "name": "ipython",
    "version": 3
   },
   "file_extension": ".py",
   "mimetype": "text/x-python",
   "name": "python",
   "nbconvert_exporter": "python",
   "pygments_lexer": "ipython3",
   "version": "3.7.10"
  }
 },
 "nbformat": 4,
 "nbformat_minor": 5
}
