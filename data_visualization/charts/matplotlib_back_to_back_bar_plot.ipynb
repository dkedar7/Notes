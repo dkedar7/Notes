{
 "cells": [
  {
   "cell_type": "raw",
   "metadata": {},
   "source": [
    "---\n",
    "title: \"Add Back to Back Bar Plots\"\n",
    "author: \"Kedar\"\n",
    "date: 2017-12-20T11:53:49-07:00\n",
    "description: \"Add b2b\"\n",
    "type: technical_note\n",
    "draft: false\n",
    "---"
   ]
  },
  {
   "cell_type": "markdown",
   "metadata": {},
   "source": [
    "## Preliminaries"
   ]
  },
  {
   "cell_type": "code",
   "execution_count": 1,
   "metadata": {},
   "outputs": [],
   "source": [
    "%matplotlib inline\n",
    "import pandas as pd\n",
    "import matplotlib.pyplot as plt\n",
    "import numpy as np"
   ]
  },
  {
   "cell_type": "markdown",
   "metadata": {},
   "source": [
    "## Create dataframe"
   ]
  },
  {
   "cell_type": "code",
   "execution_count": 2,
   "metadata": {},
   "outputs": [
    {
     "data": {
      "text/html": [
       "<div>\n",
       "<style scoped>\n",
       "    .dataframe tbody tr th:only-of-type {\n",
       "        vertical-align: middle;\n",
       "    }\n",
       "\n",
       "    .dataframe tbody tr th {\n",
       "        vertical-align: top;\n",
       "    }\n",
       "\n",
       "    .dataframe thead th {\n",
       "        text-align: right;\n",
       "    }\n",
       "</style>\n",
       "<table border=\"1\" class=\"dataframe\">\n",
       "  <thead>\n",
       "    <tr style=\"text-align: right;\">\n",
       "      <th></th>\n",
       "      <th>first_name</th>\n",
       "      <th>pre_score</th>\n",
       "      <th>mid_score</th>\n",
       "      <th>post_score</th>\n",
       "    </tr>\n",
       "  </thead>\n",
       "  <tbody>\n",
       "    <tr>\n",
       "      <th>0</th>\n",
       "      <td>Jason</td>\n",
       "      <td>4</td>\n",
       "      <td>25</td>\n",
       "      <td>5</td>\n",
       "    </tr>\n",
       "    <tr>\n",
       "      <th>1</th>\n",
       "      <td>Molly</td>\n",
       "      <td>24</td>\n",
       "      <td>94</td>\n",
       "      <td>43</td>\n",
       "    </tr>\n",
       "    <tr>\n",
       "      <th>2</th>\n",
       "      <td>Tina</td>\n",
       "      <td>31</td>\n",
       "      <td>57</td>\n",
       "      <td>23</td>\n",
       "    </tr>\n",
       "    <tr>\n",
       "      <th>3</th>\n",
       "      <td>Jake</td>\n",
       "      <td>2</td>\n",
       "      <td>62</td>\n",
       "      <td>23</td>\n",
       "    </tr>\n",
       "    <tr>\n",
       "      <th>4</th>\n",
       "      <td>Amy</td>\n",
       "      <td>3</td>\n",
       "      <td>70</td>\n",
       "      <td>51</td>\n",
       "    </tr>\n",
       "  </tbody>\n",
       "</table>\n",
       "</div>"
      ],
      "text/plain": [
       "  first_name  pre_score  mid_score  post_score\n",
       "0      Jason          4         25           5\n",
       "1      Molly         24         94          43\n",
       "2       Tina         31         57          23\n",
       "3       Jake          2         62          23\n",
       "4        Amy          3         70          51"
      ]
     },
     "execution_count": 2,
     "metadata": {},
     "output_type": "execute_result"
    }
   ],
   "source": [
    "raw_data = {'first_name': ['Jason', 'Molly', 'Tina', 'Jake', 'Amy'],\n",
    "        'pre_score': [4, 24, 31, 2, 3],\n",
    "        'mid_score': [25, 94, 57, 62, 70],\n",
    "        'post_score': [5, 43, 23, 23, 51]}\n",
    "df = pd.DataFrame(raw_data, columns = ['first_name', 'pre_score', 'mid_score', 'post_score'])\n",
    "df"
   ]
  },
  {
   "cell_type": "markdown",
   "metadata": {},
   "source": [
    "## Make plot"
   ]
  },
  {
   "cell_type": "code",
   "execution_count": 3,
   "metadata": {},
   "outputs": [
    {
     "data": {
      "image/png": "[encoded data removed]",
      "text/plain": [
       "<Figure size 576x432 with 1 Axes>"
      ]
     },
     "metadata": {
      "needs_background": "light"
     },
     "output_type": "display_data"
    }
   ],
   "source": [
    "# input data, specifically the second and \n",
    "# third rows, skipping the first column\n",
    "x1 = df.iloc[1, 1:]\n",
    "x2 = df.iloc[2, 1:]\n",
    "\n",
    "# Create the bar labels\n",
    "bar_labels = ['Pre Score', 'Mid Score', 'Post Score']\n",
    "\n",
    "# Create a figure\n",
    "fig = plt.figure(figsize=(8,6))\n",
    "\n",
    "# Set the y position\n",
    "y_pos = np.arange(len(x1))\n",
    "y_pos = [x for x in y_pos]\n",
    "plt.yticks(y_pos, bar_labels, fontsize=10)\n",
    "\n",
    "# Create a horizontal bar in the position y_pos\n",
    "plt.barh(y_pos, \n",
    "         # using x1 data\n",
    "         x1, \n",
    "         # that is centered\n",
    "         align='center', \n",
    "         # with alpha 0.4\n",
    "         alpha=0.4, \n",
    "         # and color green\n",
    "         color='#263F13')\n",
    "\n",
    "# Create a horizontal bar in the position y_pos\n",
    "plt.barh(y_pos, \n",
    "         # using NEGATIVE x2 data\n",
    "         -x2,\n",
    "         # that is centered\n",
    "         align='center', \n",
    "         # with alpha 0.4\n",
    "         alpha=0.4, \n",
    "         # and color green\n",
    "         color='#77A61D')\n",
    "\n",
    "# annotation and labels\n",
    "plt.xlabel('Tina\\'s Score: Light Green. Molly\\'s Score: Dark Green')\n",
    "t = plt.title('Comparison of Molly and Tina\\'s Score')\n",
    "plt.ylim([-1,len(x1)+0.1])\n",
    "plt.xlim([-max(x2)-10, max(x1)+10])\n",
    "plt.grid()\n",
    "\n",
    "plt.show()"
   ]
  }
 ],
 "metadata": {
  "kernelspec": {
   "display_name": "Python 3",
   "language": "python",
   "name": "python3"
  },
  "language_info": {
   "codemirror_mode": {
    "name": "ipython",
    "version": 3
   },
   "file_extension": ".py",
   "mimetype": "text/x-python",
   "name": "python",
   "nbconvert_exporter": "python",
   "pygments_lexer": "ipython3",
   "version": "3.7.3"
  }
 },
 "nbformat": 4,
 "nbformat_minor": 4
}
