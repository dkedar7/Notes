{
 "cells": [
  {
   "cell_type": "raw",
   "id": "640ac3d0-7cb3-4f1f-94f3-b70657a3265e",
   "metadata": {},
   "source": [
    "---\n",
    "title: \"Change Timezone\"\n",
    "author: \"Kedar Dabhadkar\"\n",
    "date: 2022-02-08T05:46:18.464519\n",
    "description: \"How to change the timezones of Python timezone objects\"\n",
    "type: technical_note\n",
    "draft: false\n",
    "---"
   ]
  },
  {
   "cell_type": "markdown",
   "id": "40bf852e-5440-45c3-8f94-ed367882007d",
   "metadata": {},
   "source": [
    "## Change timezone of Python datetime objects"
   ]
  },
  {
   "cell_type": "code",
   "execution_count": 9,
   "id": "05f6f99d-dd50-4a1b-ad87-78ace2caadec",
   "metadata": {},
   "outputs": [],
   "source": [
    "import datetime\n",
    "import pandas as pd"
   ]
  },
  {
   "cell_type": "code",
   "execution_count": 10,
   "id": "707956dc-b89f-4816-af69-be9929a8cf8b",
   "metadata": {},
   "outputs": [
    {
     "ename": "TypeError",
     "evalue": "unbound method datetime.time() needs an argument",
     "output_type": "error",
     "traceback": [
      "\u001b[1;31m---------------------------------------------------------------------------\u001b[0m",
      "\u001b[1;31mTypeError\u001b[0m                                 Traceback (most recent call last)",
      "\u001b[1;32m~\\AppData\\Local\\Temp/ipykernel_29124/28870272.py\u001b[0m in \u001b[0;36m<module>\u001b[1;34m\u001b[0m\n\u001b[1;32m----> 1\u001b[1;33m \u001b[0mdatetime\u001b[0m\u001b[1;33m.\u001b[0m\u001b[0mdatetime\u001b[0m\u001b[1;33m.\u001b[0m\u001b[0mtime\u001b[0m\u001b[1;33m(\u001b[0m\u001b[1;33m)\u001b[0m\u001b[1;33m\u001b[0m\u001b[1;33m\u001b[0m\u001b[0m\n\u001b[0m",
      "\u001b[1;31mTypeError\u001b[0m: unbound method datetime.time() needs an argument"
     ]
    }
   ],
   "source": [
    "datetime.datetime.time()"
   ]
  },
  {
   "cell_type": "code",
   "execution_count": 11,
   "id": "bc1db7ad-f5b9-4b16-a1b5-6ab98ced4415",
   "metadata": {},
   "outputs": [
    {
     "data": {
      "text/html": [
       "<div>\n",
       "<style scoped>\n",
       "    .dataframe tbody tr th:only-of-type {\n",
       "        vertical-align: middle;\n",
       "    }\n",
       "\n",
       "    .dataframe tbody tr th {\n",
       "        vertical-align: top;\n",
       "    }\n",
       "\n",
       "    .dataframe thead th {\n",
       "        text-align: right;\n",
       "    }\n",
       "</style>\n",
       "<table border=\"1\" class=\"dataframe\">\n",
       "  <thead>\n",
       "    <tr style=\"text-align: right;\">\n",
       "      <th></th>\n",
       "      <th>Timestamp</th>\n",
       "    </tr>\n",
       "  </thead>\n",
       "  <tbody>\n",
       "    <tr>\n",
       "      <th>0</th>\n",
       "      <td>2022-08-02 14:34:47</td>\n",
       "    </tr>\n",
       "  </tbody>\n",
       "</table>\n",
       "</div>"
      ],
      "text/plain": [
       "             Timestamp\n",
       "0  2022-08-02 14:34:47"
      ]
     },
     "execution_count": 11,
     "metadata": {},
     "output_type": "execute_result"
    }
   ],
   "source": [
    "df = pd.DataFrame(data={'Timestamp': ['2022-08-02 14:34:47']})\n",
    "\n",
    "df"
   ]
  },
  {
   "cell_type": "code",
   "execution_count": 13,
   "id": "87b0bdeb-37f8-404d-92c1-54fd899f3110",
   "metadata": {},
   "outputs": [],
   "source": [
    "df.Timestamp = pd.to_datetime(df['Timestamp'])"
   ]
  },
  {
   "cell_type": "code",
   "execution_count": 14,
   "id": "c8f9b6af-b840-4765-8697-a3342385029f",
   "metadata": {},
   "outputs": [
    {
     "data": {
      "text/plain": [
       "Timestamp    datetime64[ns]\n",
       "dtype: object"
      ]
     },
     "execution_count": 14,
     "metadata": {},
     "output_type": "execute_result"
    }
   ],
   "source": [
    "df.dtypes"
   ]
  },
  {
   "cell_type": "code",
   "execution_count": 19,
   "id": "eb73af12-d54e-4c42-8c4d-aba54bc43a55",
   "metadata": {},
   "outputs": [
    {
     "data": {
      "text/plain": [
       "Timestamp('2022-08-02 14:34:47')"
      ]
     },
     "execution_count": 19,
     "metadata": {},
     "output_type": "execute_result"
    }
   ],
   "source": [
    "df.Timestamp.iloc[0]"
   ]
  },
  {
   "cell_type": "code",
   "execution_count": 22,
   "id": "70b2c263-2381-4bb4-852a-283d76db38f1",
   "metadata": {},
   "outputs": [
    {
     "data": {
      "text/plain": [
       "\u001b[1;31mInit signature:\u001b[0m\n",
       "\u001b[0mpd\u001b[0m\u001b[1;33m.\u001b[0m\u001b[0mTimestamp\u001b[0m\u001b[1;33m(\u001b[0m\u001b[1;33m\n",
       "\u001b[0m    \u001b[0mts_input\u001b[0m\u001b[1;33m=\u001b[0m\u001b[1;33m<\u001b[0m\u001b[0mobject\u001b[0m \u001b[0mobject\u001b[0m \u001b[0mat\u001b[0m \u001b[1;36m0x00000282FFAF57A0\u001b[0m\u001b[1;33m>\u001b[0m\u001b[1;33m,\u001b[0m\u001b[1;33m\n",
       "\u001b[0m    \u001b[0mfreq\u001b[0m\u001b[1;33m=\u001b[0m\u001b[1;32mNone\u001b[0m\u001b[1;33m,\u001b[0m\u001b[1;33m\n",
       "\u001b[0m    \u001b[0mtz\u001b[0m\u001b[1;33m=\u001b[0m\u001b[1;32mNone\u001b[0m\u001b[1;33m,\u001b[0m\u001b[1;33m\n",
       "\u001b[0m    \u001b[0munit\u001b[0m\u001b[1;33m=\u001b[0m\u001b[1;32mNone\u001b[0m\u001b[1;33m,\u001b[0m\u001b[1;33m\n",
       "\u001b[0m    \u001b[0myear\u001b[0m\u001b[1;33m=\u001b[0m\u001b[1;32mNone\u001b[0m\u001b[1;33m,\u001b[0m\u001b[1;33m\n",
       "\u001b[0m    \u001b[0mmonth\u001b[0m\u001b[1;33m=\u001b[0m\u001b[1;32mNone\u001b[0m\u001b[1;33m,\u001b[0m\u001b[1;33m\n",
       "\u001b[0m    \u001b[0mday\u001b[0m\u001b[1;33m=\u001b[0m\u001b[1;32mNone\u001b[0m\u001b[1;33m,\u001b[0m\u001b[1;33m\n",
       "\u001b[0m    \u001b[0mhour\u001b[0m\u001b[1;33m=\u001b[0m\u001b[1;32mNone\u001b[0m\u001b[1;33m,\u001b[0m\u001b[1;33m\n",
       "\u001b[0m    \u001b[0mminute\u001b[0m\u001b[1;33m=\u001b[0m\u001b[1;32mNone\u001b[0m\u001b[1;33m,\u001b[0m\u001b[1;33m\n",
       "\u001b[0m    \u001b[0msecond\u001b[0m\u001b[1;33m=\u001b[0m\u001b[1;32mNone\u001b[0m\u001b[1;33m,\u001b[0m\u001b[1;33m\n",
       "\u001b[0m    \u001b[0mmicrosecond\u001b[0m\u001b[1;33m=\u001b[0m\u001b[1;32mNone\u001b[0m\u001b[1;33m,\u001b[0m\u001b[1;33m\n",
       "\u001b[0m    \u001b[0mnanosecond\u001b[0m\u001b[1;33m=\u001b[0m\u001b[1;32mNone\u001b[0m\u001b[1;33m,\u001b[0m\u001b[1;33m\n",
       "\u001b[0m    \u001b[0mtzinfo\u001b[0m\u001b[1;33m=\u001b[0m\u001b[1;32mNone\u001b[0m\u001b[1;33m,\u001b[0m\u001b[1;33m\n",
       "\u001b[0m    \u001b[1;33m*\u001b[0m\u001b[1;33m,\u001b[0m\u001b[1;33m\n",
       "\u001b[0m    \u001b[0mfold\u001b[0m\u001b[1;33m=\u001b[0m\u001b[1;32mNone\u001b[0m\u001b[1;33m,\u001b[0m\u001b[1;33m\n",
       "\u001b[0m\u001b[1;33m)\u001b[0m\u001b[1;33m\u001b[0m\u001b[1;33m\u001b[0m\u001b[0m\n",
       "\u001b[1;31mDocstring:\u001b[0m     \n",
       "Pandas replacement for python datetime.datetime object.\n",
       "\n",
       "Timestamp is the pandas equivalent of python's Datetime\n",
       "and is interchangeable with it in most cases. It's the type used\n",
       "for the entries that make up a DatetimeIndex, and other timeseries\n",
       "oriented data structures in pandas.\n",
       "\n",
       "Parameters\n",
       "----------\n",
       "ts_input : datetime-like, str, int, float\n",
       "    Value to be converted to Timestamp.\n",
       "freq : str, DateOffset\n",
       "    Offset which Timestamp will have.\n",
       "tz : str, pytz.timezone, dateutil.tz.tzfile or None\n",
       "    Time zone for time which Timestamp will have.\n",
       "unit : str\n",
       "    Unit used for conversion if ts_input is of type int or float. The\n",
       "    valid values are 'D', 'h', 'm', 's', 'ms', 'us', and 'ns'. For\n",
       "    example, 's' means seconds and 'ms' means milliseconds.\n",
       "year, month, day : int\n",
       "hour, minute, second, microsecond : int, optional, default 0\n",
       "nanosecond : int, optional, default 0\n",
       "tzinfo : datetime.tzinfo, optional, default None\n",
       "fold : {0, 1}, default None, keyword-only\n",
       "    Due to daylight saving time, one wall clock time can occur twice\n",
       "    when shifting from summer to winter time; fold describes whether the\n",
       "    datetime-like corresponds  to the first (0) or the second time (1)\n",
       "    the wall clock hits the ambiguous time\n",
       "\n",
       "    .. versionadded:: 1.1.0\n",
       "\n",
       "Notes\n",
       "-----\n",
       "There are essentially three calling conventions for the constructor. The\n",
       "primary form accepts four parameters. They can be passed by position or\n",
       "keyword.\n",
       "\n",
       "The other two forms mimic the parameters from ``datetime.datetime``. They\n",
       "can be passed by either position or keyword, but not both mixed together.\n",
       "\n",
       "Examples\n",
       "--------\n",
       "Using the primary calling convention:\n",
       "\n",
       "This converts a datetime-like string\n",
       "\n",
       ">>> pd.Timestamp('2017-01-01T12')\n",
       "Timestamp('2017-01-01 12:00:00')\n",
       "\n",
       "This converts a float representing a Unix epoch in units of seconds\n",
       "\n",
       ">>> pd.Timestamp(1513393355.5, unit='s')\n",
       "Timestamp('2017-12-16 03:02:35.500000')\n",
       "\n",
       "This converts an int representing a Unix-epoch in units of seconds\n",
       "and for a particular timezone\n",
       "\n",
       ">>> pd.Timestamp(1513393355, unit='s', tz='US/Pacific')\n",
       "Timestamp('2017-12-15 19:02:35-0800', tz='US/Pacific')\n",
       "\n",
       "Using the other two forms that mimic the API for ``datetime.datetime``:\n",
       "\n",
       ">>> pd.Timestamp(2017, 1, 1, 12)\n",
       "Timestamp('2017-01-01 12:00:00')\n",
       "\n",
       ">>> pd.Timestamp(year=2017, month=1, day=1, hour=12)\n",
       "Timestamp('2017-01-01 12:00:00')\n",
       "\u001b[1;31mFile:\u001b[0m           c:\\users\\kedar\\anaconda3\\lib\\site-packages\\pandas\\_libs\\tslibs\\timestamps.cp39-win_amd64.pyd\n",
       "\u001b[1;31mType:\u001b[0m           type\n",
       "\u001b[1;31mSubclasses:\u001b[0m     \n"
      ]
     },
     "metadata": {},
     "output_type": "display_data"
    }
   ],
   "source": [
    "pd.Timestamp??"
   ]
  },
  {
   "cell_type": "code",
   "execution_count": null,
   "id": "3bb82f72-3c99-4edb-a6a3-d4f602a81973",
   "metadata": {},
   "outputs": [],
   "source": []
  }
 ],
 "metadata": {
  "kernelspec": {
   "display_name": "Python 3 (ipykernel)",
   "language": "python",
   "name": "python3"
  },
  "language_info": {
   "codemirror_mode": {
    "name": "ipython",
    "version": 3
   },
   "file_extension": ".py",
   "mimetype": "text/x-python",
   "name": "python",
   "nbconvert_exporter": "python",
   "pygments_lexer": "ipython3",
   "version": "3.9.7"
  }
 },
 "nbformat": 4,
 "nbformat_minor": 5
}
