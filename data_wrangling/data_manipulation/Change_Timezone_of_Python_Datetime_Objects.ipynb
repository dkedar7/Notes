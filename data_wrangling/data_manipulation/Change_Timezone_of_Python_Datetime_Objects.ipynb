{
 "cells": [
  {
   "cell_type": "raw",
   "id": "640ac3d0-7cb3-4f1f-94f3-b70657a3265e",
   "metadata": {},
   "source": [
    "---\n",
    "title: \"Change Timezone\"\n",
    "author: \"Kedar Dabhadkar\"\n",
    "date: 2022-02-08T05:46:18.464519\n",
    "description: \"How to change the timezones of Python timezone objects\"\n",
    "type: technical_note\n",
    "draft: false\n",
    "---"
   ]
  },
  {
   "cell_type": "markdown",
   "id": "40bf852e-5440-45c3-8f94-ed367882007d",
   "metadata": {},
   "source": [
    "## Change timezone of Python datetime objects"
   ]
  },
  {
   "cell_type": "code",
   "execution_count": 1,
   "id": "05f6f99d-dd50-4a1b-ad87-78ace2caadec",
   "metadata": {},
   "outputs": [],
   "source": [
    "import datetime\n",
    "import pytz\n",
    "import pandas as pd\n",
    "import matplotlib.pyplot as plt"
   ]
  },
  {
   "cell_type": "markdown",
   "id": "83a9771c-c45f-462f-a365-acf46e7dea7c",
   "metadata": {},
   "source": [
    "### By default, datetime objects are not tz-aware"
   ]
  },
  {
   "cell_type": "code",
   "execution_count": 2,
   "id": "7ac3f853-8541-4e04-9e26-873c3d197c7b",
   "metadata": {},
   "outputs": [
    {
     "name": "stdout",
     "output_type": "stream",
     "text": [
      "None\n",
      "UTC\n"
     ]
    }
   ],
   "source": [
    "# Default datetime object\n",
    "my_datetime = datetime.datetime(2022, 2, 8, 17, 10, 27)\n",
    "print (my_datetime.tzname())\n",
    "\n",
    "# Make a tz-aware datetime\n",
    "my_datetime = datetime.datetime(2022, 2, 8, 17, 10, 27, tzinfo = pytz.utc)\n",
    "print (my_datetime.tzname())"
   ]
  },
  {
   "cell_type": "markdown",
   "id": "ce6969fb-33f9-4935-9a11-5b05ab4ca2e4",
   "metadata": {},
   "source": [
    "### Convert the datetime from UTC to Central time zone"
   ]
  },
  {
   "cell_type": "code",
   "execution_count": 3,
   "id": "88a06bda-e02b-427a-bf32-a3430e9f9200",
   "metadata": {},
   "outputs": [
    {
     "name": "stdout",
     "output_type": "stream",
     "text": [
      "2022-02-08 11:10:27 CST-0600\n"
     ]
    }
   ],
   "source": [
    "my_datetime_cst = my_datetime.astimezone(pytz.timezone('US/Central'))\n",
    "print(my_datetime_cst.strftime('%Y-%m-%d %H:%M:%S %Z%z'))"
   ]
  },
  {
   "cell_type": "markdown",
   "id": "5cae1c0f-9867-45ca-a0d5-97f07b03c064",
   "metadata": {
    "tags": []
   },
   "source": [
    "### Change timezone in Pandas dataframes"
   ]
  },
  {
   "cell_type": "markdown",
   "id": "3da08358-cdf9-449d-a307-8ba60a2fdc61",
   "metadata": {},
   "source": [
    "There's a common pitfall to be aware of when changing timezones in Pandas dataframes. Simply setting the desired timezone does not seem to work as expected when plotting the data. The solution is to convert tz-aware datetime series to tz-unaware series."
   ]
  },
  {
   "cell_type": "code",
   "execution_count": 4,
   "id": "847dbd34-d17f-4378-bc57-26e01b1cc5b3",
   "metadata": {},
   "outputs": [
    {
     "data": {
      "text/html": [
       "<div>\n",
       "<style scoped>\n",
       "    .dataframe tbody tr th:only-of-type {\n",
       "        vertical-align: middle;\n",
       "    }\n",
       "\n",
       "    .dataframe tbody tr th {\n",
       "        vertical-align: top;\n",
       "    }\n",
       "\n",
       "    .dataframe thead th {\n",
       "        text-align: right;\n",
       "    }\n",
       "</style>\n",
       "<table border=\"1\" class=\"dataframe\">\n",
       "  <thead>\n",
       "    <tr style=\"text-align: right;\">\n",
       "      <th></th>\n",
       "      <th>Tz-unaware (UTC)</th>\n",
       "      <th>Tz-aware (UTC)</th>\n",
       "      <th>Tz-aware (Central time)</th>\n",
       "      <th>Tz-unaware (Central time)</th>\n",
       "    </tr>\n",
       "  </thead>\n",
       "  <tbody>\n",
       "    <tr>\n",
       "      <th>0</th>\n",
       "      <td>2022-01-01 10:00:00</td>\n",
       "      <td>2022-01-01 10:00:00+00:00</td>\n",
       "      <td>2022-01-01 04:00:00-06:00</td>\n",
       "      <td>2022-01-01 04:00:00</td>\n",
       "    </tr>\n",
       "    <tr>\n",
       "      <th>1</th>\n",
       "      <td>2022-01-01 15:00:00</td>\n",
       "      <td>2022-01-01 15:00:00+00:00</td>\n",
       "      <td>2022-01-01 09:00:00-06:00</td>\n",
       "      <td>2022-01-01 09:00:00</td>\n",
       "    </tr>\n",
       "    <tr>\n",
       "      <th>2</th>\n",
       "      <td>2022-01-01 20:00:00</td>\n",
       "      <td>2022-01-01 20:00:00+00:00</td>\n",
       "      <td>2022-01-01 14:00:00-06:00</td>\n",
       "      <td>2022-01-01 14:00:00</td>\n",
       "    </tr>\n",
       "    <tr>\n",
       "      <th>3</th>\n",
       "      <td>2022-01-02 01:00:00</td>\n",
       "      <td>2022-01-02 01:00:00+00:00</td>\n",
       "      <td>2022-01-01 19:00:00-06:00</td>\n",
       "      <td>2022-01-01 19:00:00</td>\n",
       "    </tr>\n",
       "    <tr>\n",
       "      <th>4</th>\n",
       "      <td>2022-01-02 06:00:00</td>\n",
       "      <td>2022-01-02 06:00:00+00:00</td>\n",
       "      <td>2022-01-02 00:00:00-06:00</td>\n",
       "      <td>2022-01-02 00:00:00</td>\n",
       "    </tr>\n",
       "    <tr>\n",
       "      <th>5</th>\n",
       "      <td>2022-01-02 11:00:00</td>\n",
       "      <td>2022-01-02 11:00:00+00:00</td>\n",
       "      <td>2022-01-02 05:00:00-06:00</td>\n",
       "      <td>2022-01-02 05:00:00</td>\n",
       "    </tr>\n",
       "    <tr>\n",
       "      <th>6</th>\n",
       "      <td>2022-01-02 16:00:00</td>\n",
       "      <td>2022-01-02 16:00:00+00:00</td>\n",
       "      <td>2022-01-02 10:00:00-06:00</td>\n",
       "      <td>2022-01-02 10:00:00</td>\n",
       "    </tr>\n",
       "    <tr>\n",
       "      <th>7</th>\n",
       "      <td>2022-01-02 21:00:00</td>\n",
       "      <td>2022-01-02 21:00:00+00:00</td>\n",
       "      <td>2022-01-02 15:00:00-06:00</td>\n",
       "      <td>2022-01-02 15:00:00</td>\n",
       "    </tr>\n",
       "  </tbody>\n",
       "</table>\n",
       "</div>"
      ],
      "text/plain": [
       "     Tz-unaware (UTC)            Tz-aware (UTC)   Tz-aware (Central time)  \\\n",
       "0 2022-01-01 10:00:00 2022-01-01 10:00:00+00:00 2022-01-01 04:00:00-06:00   \n",
       "1 2022-01-01 15:00:00 2022-01-01 15:00:00+00:00 2022-01-01 09:00:00-06:00   \n",
       "2 2022-01-01 20:00:00 2022-01-01 20:00:00+00:00 2022-01-01 14:00:00-06:00   \n",
       "3 2022-01-02 01:00:00 2022-01-02 01:00:00+00:00 2022-01-01 19:00:00-06:00   \n",
       "4 2022-01-02 06:00:00 2022-01-02 06:00:00+00:00 2022-01-02 00:00:00-06:00   \n",
       "5 2022-01-02 11:00:00 2022-01-02 11:00:00+00:00 2022-01-02 05:00:00-06:00   \n",
       "6 2022-01-02 16:00:00 2022-01-02 16:00:00+00:00 2022-01-02 10:00:00-06:00   \n",
       "7 2022-01-02 21:00:00 2022-01-02 21:00:00+00:00 2022-01-02 15:00:00-06:00   \n",
       "\n",
       "  Tz-unaware (Central time)  \n",
       "0       2022-01-01 04:00:00  \n",
       "1       2022-01-01 09:00:00  \n",
       "2       2022-01-01 14:00:00  \n",
       "3       2022-01-01 19:00:00  \n",
       "4       2022-01-02 00:00:00  \n",
       "5       2022-01-02 05:00:00  \n",
       "6       2022-01-02 10:00:00  \n",
       "7       2022-01-02 15:00:00  "
      ]
     },
     "execution_count": 4,
     "metadata": {},
     "output_type": "execute_result"
    }
   ],
   "source": [
    "my_df = pd.DataFrame()\n",
    "\n",
    "# Generate a series of timestamps\n",
    "my_df['Tz-unaware (UTC)'] = pd.date_range(start='2022-01-01 10:00:00', end='2022-01-03', freq='5H')\n",
    "\n",
    "# Make the series tz-aware by assinging a timezone\n",
    "my_df['Tz-aware (UTC)'] = my_df['Tz-unaware (UTC)'].apply(lambda x: x.tz_localize('UTC'))\n",
    "\n",
    "# Convert series to Central time to UTC\n",
    "my_df['Tz-aware (Central time)'] = my_df['Tz-aware (UTC)'].apply(lambda x: x.astimezone(pytz.timezone('US/Central')))\n",
    "\n",
    "# Make the series tz-unaware\n",
    "my_df['Tz-unaware (Central time)'] = my_df['Tz-aware (Central time)'].apply(lambda x: x.tz_localize(None))\n",
    "\n",
    "my_df"
   ]
  },
  {
   "cell_type": "code",
   "execution_count": 5,
   "id": "ede07b1c-e5d0-4d1f-be73-3925cf538c49",
   "metadata": {},
   "outputs": [],
   "source": [
    "# fig, ax = plt.subplots(1, 1, figsize=(13,7))\n",
    "\n",
    "# ax.plot(my_df['Tz-unaware (UTC)'], [3 for i in range(len(my_df))], '-o', label='Tz-unaware (UTC) - Original')\n",
    "# ax.plot(my_df['Tz-aware (Central time)'],  [2 for i in range(len(my_df))], '-o', label='Tz-aware (Central time)')\n",
    "# ax.plot(my_df['Tz-unaware (Central time)'],  [1 for i in range(len(my_df))], '-o', label='Tz-unaware (Central time) - Expected')\n",
    "\n",
    "# ax.set_ylim(0, 4)\n",
    "\n",
    "# plt.legend(bbox_to_anchor=(1.35, 1))\n",
    "# plt.show()"
   ]
  }
 ],
 "metadata": {
  "kernelspec": {
   "display_name": "Python 3 (ipykernel)",
   "language": "python",
   "name": "python3"
  },
  "language_info": {
   "codemirror_mode": {
    "name": "ipython",
    "version": 3
   },
   "file_extension": ".py",
   "mimetype": "text/x-python",
   "name": "python",
   "nbconvert_exporter": "python",
   "pygments_lexer": "ipython3",
   "version": "3.9.7"
  }
 },
 "nbformat": 4,
 "nbformat_minor": 5
}
