{
 "cells": [
  {
   "cell_type": "raw",
   "id": "3d6c2e65",
   "metadata": {},
   "source": [
    "---\n",
    "title: \"Pytest for testing\"\n",
    "author: \"Kedar Dabhadkar\"\n",
    "date: 2021-06-09T05:46:18.464519\n",
    "description: \"How you can use Pytest to test your Python code\"\n",
    "type: technical_note\n",
    "draft: true\n",
    "---"
   ]
  },
  {
   "cell_type": "markdown",
   "id": "2d8b145f",
   "metadata": {},
   "source": [
    "### Pytest for Testing Python code"
   ]
  },
  {
   "cell_type": "markdown",
   "id": "671beee6",
   "metadata": {},
   "source": [
    "Every line line of code is one more reason why the entire software might crash. We sometimes don't understand the importance of testing our code until our code becomes a part of a production codebase. Pytest is the most widely used framework for unit testing in Python."
   ]
  },
  {
   "cell_type": "code",
   "execution_count": null,
   "id": "b616722d",
   "metadata": {},
   "outputs": [],
   "source": []
  }
 ],
 "metadata": {
  "kernelspec": {
   "display_name": "Python 3",
   "language": "python",
   "name": "python3"
  },
  "language_info": {
   "codemirror_mode": {
    "name": "ipython",
    "version": 3
   },
   "file_extension": ".py",
   "mimetype": "text/x-python",
   "name": "python",
   "nbconvert_exporter": "python",
   "pygments_lexer": "ipython3",
   "version": "3.7.10"
  }
 },
 "nbformat": 4,
 "nbformat_minor": 5
}
