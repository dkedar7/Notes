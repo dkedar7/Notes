{
 "cells": [
  {
   "cell_type": "raw",
   "id": "mounted-radius",
   "metadata": {},
   "source": [
    "---\n",
    "title: \"Create Fake Data with Faker\"\n",
    "author: \"Kedar Dabhadkar\"\n",
    "date: 2021-05-23T05:46:18.464519\n",
    "description: \"How to create fake data using the Python library, Faker\"\n",
    "type: technical_note\n",
    "draft: false\n",
    "---"
   ]
  },
  {
   "cell_type": "markdown",
   "id": "interstate-chrome",
   "metadata": {},
   "source": [
    "### Create Fake Data with Faker"
   ]
  },
  {
   "cell_type": "markdown",
   "id": "equivalent-tumor",
   "metadata": {},
   "source": [
    "Having the ability to create dummy/ fake dataset is useful for a variety of reasons. Some use-cases that come to mind are 1. Testing python code, 2. Developing sample analysis, which can be replaced by real data later, 3. Writing tutorials, and 4. Proving a point. Yes, generating POCs, or Proof of Concepts, is a very important skill in data science, which helps to get stakeholder buy-in."
   ]
  },
  {
   "cell_type": "code",
   "execution_count": 1,
   "id": "contrary-expert",
   "metadata": {},
   "outputs": [],
   "source": [
    "# !pip install Faker\n",
    "from faker import Faker\n",
    "fake = Faker()"
   ]
  },
  {
   "cell_type": "markdown",
   "id": "accomplished-heavy",
   "metadata": {},
   "source": [
    "#### Some types of fake data"
   ]
  },
  {
   "cell_type": "code",
   "execution_count": 2,
   "id": "supposed-wrapping",
   "metadata": {},
   "outputs": [
    {
     "data": {
      "text/plain": [
       "'Mike Miller'"
      ]
     },
     "execution_count": 2,
     "metadata": {},
     "output_type": "execute_result"
    }
   ],
   "source": [
    "# Fake name\n",
    "fake.name()"
   ]
  },
  {
   "cell_type": "code",
   "execution_count": 3,
   "id": "unauthorized-canon",
   "metadata": {},
   "outputs": [
    {
     "data": {
      "text/plain": [
       "'Race relations officer'"
      ]
     },
     "execution_count": 3,
     "metadata": {},
     "output_type": "execute_result"
    }
   ],
   "source": [
    "# Fake job\n",
    "fake.job()"
   ]
  },
  {
   "cell_type": "code",
   "execution_count": 4,
   "id": "charming-essex",
   "metadata": {},
   "outputs": [
    {
     "data": {
      "text/plain": [
       "'YellowGreen'"
      ]
     },
     "execution_count": 4,
     "metadata": {},
     "output_type": "execute_result"
    }
   ],
   "source": [
    "# Fake color\n",
    "fake.color_name()"
   ]
  },
  {
   "cell_type": "code",
   "execution_count": 5,
   "id": "arctic-suspect",
   "metadata": {},
   "outputs": [
    {
     "data": {
      "text/plain": [
       "'New Richardbury'"
      ]
     },
     "execution_count": 5,
     "metadata": {},
     "output_type": "execute_result"
    }
   ],
   "source": [
    "# Fake city\n",
    "fake.city()"
   ]
  },
  {
   "cell_type": "code",
   "execution_count": 6,
   "id": "broad-level",
   "metadata": {},
   "outputs": [
    {
     "data": {
      "text/plain": [
       "'Edge reflect under simple above. Security trial Democrat entire since something. Crime bag risk throw yard.\\nSize sell hot have rise consider wife. Century play answer election clear ahead.'"
      ]
     },
     "execution_count": 6,
     "metadata": {},
     "output_type": "execute_result"
    }
   ],
   "source": [
    "# Fake text\n",
    "fake.text()"
   ]
  },
  {
   "cell_type": "code",
   "execution_count": 7,
   "id": "difficult-triple",
   "metadata": {},
   "outputs": [
    {
     "data": {
      "text/plain": [
       "False"
      ]
     },
     "execution_count": 7,
     "metadata": {},
     "output_type": "execute_result"
    }
   ],
   "source": [
    "# Fake Boolean\n",
    "fake.pybool()"
   ]
  },
  {
   "cell_type": "code",
   "execution_count": 8,
   "id": "related-oliver",
   "metadata": {},
   "outputs": [
    {
     "data": {
      "text/plain": [
       "['http://williams-peterson.net/',\n",
       " Decimal('82966.369131538'),\n",
       " 2841,\n",
       " 'kathleen35@yahoo.com',\n",
       " 'DiIHCibASmTFzRrDqZyQ']"
      ]
     },
     "execution_count": 8,
     "metadata": {},
     "output_type": "execute_result"
    }
   ],
   "source": [
    "# Fake list\n",
    "fake.pylist(nb_elements=5, variable_nb_elements=False)"
   ]
  },
  {
   "cell_type": "code",
   "execution_count": 9,
   "id": "beneficial-signature",
   "metadata": {},
   "outputs": [
    {
     "data": {
      "text/plain": [
       "Decimal('42545.554972')"
      ]
     },
     "execution_count": 9,
     "metadata": {},
     "output_type": "execute_result"
    }
   ],
   "source": [
    "# Fake decimal\n",
    "fake.pydecimal(left_digits=5, right_digits=6, positive=False, min_value=None, max_value=None)"
   ]
  },
  {
   "cell_type": "code",
   "execution_count": 10,
   "id": "former-quest",
   "metadata": {},
   "outputs": [
    {
     "data": {
      "text/plain": [
       "'Mozilla/5.0 (iPod; U; CPU iPhone OS 4_1 like Mac OS X; szl-PL) AppleWebKit/532.39.2 (KHTML, like Gecko) Version/3.0.5 Mobile/8B113 Safari/6532.39.2'"
      ]
     },
     "execution_count": 10,
     "metadata": {},
     "output_type": "execute_result"
    }
   ],
   "source": [
    "## Some other providers:\n",
    "fake.address()\n",
    "fake.license_plate()\n",
    "fake.swift()\n",
    "fake.color()\n",
    "fake.company()\n",
    "fake.credit_card_full()\n",
    "fake.currency()\n",
    "fake.date_time()\n",
    "fake.file_path()\n",
    "fake.local_latlng()\n",
    "fake.ascii_safe_email()\n",
    "fake.job()\n",
    "fake.paragraph(nb_sentences=5)\n",
    "fake.fixed_width(data_columns=[(20, 'name'), (3, 'pyint', {'min_value':50, 'max_value':100})], align='right', num_rows=2)\n",
    "fake.phone_number()\n",
    "fake.profile()\n",
    "fake.ssn()\n",
    "fake.user_agent()"
   ]
  },
  {
   "cell_type": "markdown",
   "id": "sexual-ireland",
   "metadata": {},
   "source": [
    "#### Create fake data from a specific locale"
   ]
  },
  {
   "cell_type": "code",
   "execution_count": 11,
   "id": "undefined-difficulty",
   "metadata": {},
   "outputs": [
    {
     "data": {
      "text/plain": [
       "'Rotonda Lisa 18\\nPapetti salentino, 31326 Medio Campidano (PO)'"
      ]
     },
     "execution_count": 11,
     "metadata": {},
     "output_type": "execute_result"
    }
   ],
   "source": [
    "# Some locale options:\n",
    "# 'it_IT','ja_JP', 'zh_CN', 'de_DE','en_US' and many more\n",
    "\n",
    "fake = Faker('it_IT')\n",
    "fake.address()"
   ]
  },
  {
   "cell_type": "markdown",
   "id": "hired-deviation",
   "metadata": {},
   "source": [
    "#### Create an entire profile at once"
   ]
  },
  {
   "cell_type": "code",
   "execution_count": 12,
   "id": "original-problem",
   "metadata": {},
   "outputs": [
    {
     "data": {
      "text/plain": [
       "{'job': 'Drilling engineer',\n",
       " 'company': 'Trevino, Campbell and Young',\n",
       " 'ssn': '608-83-8424',\n",
       " 'residence': '321 Brian Valleys Suite 374\\nWest Wendyville, CA 36613',\n",
       " 'current_location': (Decimal('82.340949'), Decimal('-80.920579')),\n",
       " 'blood_group': 'B-',\n",
       " 'website': ['http://www.anderson-richardson.com/',\n",
       "  'https://www.smith.net/',\n",
       "  'http://fisher-romero.com/'],\n",
       " 'username': 'gileslaura',\n",
       " 'name': 'Ryan Miller',\n",
       " 'sex': 'M',\n",
       " 'address': '53066 Carr Centers\\nWest Brianland, IA 06589',\n",
       " 'mail': 'crystalgarrett@gmail.com',\n",
       " 'birthdate': datetime.date(2012, 12, 8)}"
      ]
     },
     "execution_count": 12,
     "metadata": {},
     "output_type": "execute_result"
    }
   ],
   "source": [
    "fake = Faker()\n",
    "fake.profile()"
   ]
  },
  {
   "cell_type": "markdown",
   "id": "unknown-booth",
   "metadata": {},
   "source": [
    "### Read more"
   ]
  },
  {
   "cell_type": "markdown",
   "id": "fewer-testament",
   "metadata": {},
   "source": [
    "[1] https://faker.readthedocs.io/en/master/ <br>\n",
    "[2] https://towardsdatascience.com/how-to-create-fake-data-with-faker-a835e5b7a9d9"
   ]
  }
 ],
 "metadata": {
  "kernelspec": {
   "display_name": "Python 3",
   "language": "python",
   "name": "python3"
  },
  "language_info": {
   "codemirror_mode": {
    "name": "ipython",
    "version": 3
   },
   "file_extension": ".py",
   "mimetype": "text/x-python",
   "name": "python",
   "nbconvert_exporter": "python",
   "pygments_lexer": "ipython3",
   "version": "3.7.10"
  }
 },
 "nbformat": 4,
 "nbformat_minor": 5
}
