{
 "cells": [
  {
   "cell_type": "raw",
   "id": "comic-joseph",
   "metadata": {},
   "source": [
    "---\n",
    "title: \"Create Fake Data with Faker\"\n",
    "author: \"Kedar Dabhadkar\"\n",
    "date: 2021-05-23T05:46:18.464519\n",
    "description: \"How to create fake data using the Python library, Faker\"\n",
    "type: technical_note\n",
    "draft: false\n",
    "---"
   ]
  },
  {
   "cell_type": "markdown",
   "id": "manual-bundle",
   "metadata": {},
   "source": [
    "### Create Fake Data with Faker"
   ]
  },
  {
   "cell_type": "markdown",
   "id": "vital-numbers",
   "metadata": {},
   "source": [
    "Having the ability to create dummy/ fake dataset is useful for a variety of reasons. Some use-cases that come to mind are 1. Testing python code, 2. Developing sample analysis, which can be replaced by real data later, 3. Writing tutorials, and 4. Proving a point. Yes, generating POCs, or Proof of Concepts, is a very important skill in data science, which helps to get stakeholder buy-in."
   ]
  },
  {
   "cell_type": "code",
   "execution_count": 1,
   "id": "indonesian-silence",
   "metadata": {},
   "outputs": [],
   "source": [
    "# !pip install Faker\n",
    "from faker import Faker\n",
    "fake = Faker()"
   ]
  },
  {
   "cell_type": "markdown",
   "id": "parental-remove",
   "metadata": {},
   "source": [
    "#### Some types of fake data"
   ]
  },
  {
   "cell_type": "code",
   "execution_count": 2,
   "id": "formed-military",
   "metadata": {},
   "outputs": [
    {
     "data": {
      "text/plain": [
       "'Tasha Cole'"
      ]
     },
     "execution_count": 2,
     "metadata": {},
     "output_type": "execute_result"
    }
   ],
   "source": [
    "# Fake name\n",
    "fake.name()"
   ]
  },
  {
   "cell_type": "code",
   "execution_count": 4,
   "id": "technical-frost",
   "metadata": {},
   "outputs": [
    {
     "data": {
      "text/plain": [
       "'Secretary, company'"
      ]
     },
     "execution_count": 4,
     "metadata": {},
     "output_type": "execute_result"
    }
   ],
   "source": [
    "# Fake job\n",
    "fake.job()"
   ]
  },
  {
   "cell_type": "code",
   "execution_count": 6,
   "id": "sticky-revolution",
   "metadata": {},
   "outputs": [
    {
     "data": {
      "text/plain": [
       "'MediumOrchid'"
      ]
     },
     "execution_count": 6,
     "metadata": {},
     "output_type": "execute_result"
    }
   ],
   "source": [
    "# Fake color\n",
    "fake.color_name()"
   ]
  },
  {
   "cell_type": "code",
   "execution_count": 7,
   "id": "hairy-player",
   "metadata": {},
   "outputs": [
    {
     "data": {
      "text/plain": [
       "'Lake Jon'"
      ]
     },
     "execution_count": 7,
     "metadata": {},
     "output_type": "execute_result"
    }
   ],
   "source": [
    "# Fake city\n",
    "fake.city()"
   ]
  },
  {
   "cell_type": "code",
   "execution_count": 8,
   "id": "wound-bottom",
   "metadata": {},
   "outputs": [
    {
     "data": {
      "text/plain": [
       "'Forward can picture during your field. Red west million sometimes. International single man almost guy return class.\\nPublic get owner suffer happen tell. Group rich fish hundred just loss.'"
      ]
     },
     "execution_count": 8,
     "metadata": {},
     "output_type": "execute_result"
    }
   ],
   "source": [
    "# Fake text\n",
    "fake.text()"
   ]
  },
  {
   "cell_type": "code",
   "execution_count": 9,
   "id": "regulation-maker",
   "metadata": {},
   "outputs": [
    {
     "data": {
      "text/plain": [
       "True"
      ]
     },
     "execution_count": 9,
     "metadata": {},
     "output_type": "execute_result"
    }
   ],
   "source": [
    "# Fake Boolean\n",
    "fake.pybool()"
   ]
  },
  {
   "cell_type": "code",
   "execution_count": 10,
   "id": "unnecessary-ontario",
   "metadata": {},
   "outputs": [
    {
     "data": {
      "text/plain": [
       "['UBnRwCfHMNVLDSyiBzKl',\n",
       " 8775,\n",
       " Decimal('4790126530.1111'),\n",
       " Decimal('313.484695244619'),\n",
       " 'valerie51@yahoo.com']"
      ]
     },
     "execution_count": 10,
     "metadata": {},
     "output_type": "execute_result"
    }
   ],
   "source": [
    "# Fake list\n",
    "fake.pylist(nb_elements=5, variable_nb_elements=False)"
   ]
  },
  {
   "cell_type": "code",
   "execution_count": 11,
   "id": "documented-consortium",
   "metadata": {},
   "outputs": [
    {
     "data": {
      "text/plain": [
       "Decimal('34912.92106')"
      ]
     },
     "execution_count": 11,
     "metadata": {},
     "output_type": "execute_result"
    }
   ],
   "source": [
    "# Fake decimal\n",
    "fake.pydecimal(left_digits=5, right_digits=6, positive=False, min_value=None, max_value=None)"
   ]
  },
  {
   "cell_type": "code",
   "execution_count": 35,
   "id": "racial-excellence",
   "metadata": {},
   "outputs": [
    {
     "data": {
      "text/plain": [
       "'Mozilla/5.0 (Android 4.4.1; Mobile; rv:53.0) Gecko/53.0 Firefox/53.0'"
      ]
     },
     "execution_count": 35,
     "metadata": {},
     "output_type": "execute_result"
    }
   ],
   "source": [
    "## Some other providers:\n",
    "fake.address()\n",
    "fake.license_plate()\n",
    "fake.swift()\n",
    "fake.color()\n",
    "fake.company()\n",
    "fake.credit_card_full()\n",
    "fake.currency()\n",
    "fake.date_time()\n",
    "fake.file_path()\n",
    "fake.local_latlng()\n",
    "fake.ascii_safe_email()\n",
    "fake.job()\n",
    "fake.paragraph(nb_sentences=5)\n",
    "fake.fixed_width(data_columns=[(20, 'name'), (3, 'pyint', {'min_value':50, 'max_value':100})], align='right', num_rows=2)\n",
    "fake.phone_number()\n",
    "fake.profile()\n",
    "fake.ssn()\n",
    "fake.user_agent()"
   ]
  },
  {
   "cell_type": "markdown",
   "id": "falling-climate",
   "metadata": {},
   "source": [
    "#### Create fake data from a specific locale"
   ]
  },
  {
   "cell_type": "code",
   "execution_count": 12,
   "id": "coral-status",
   "metadata": {},
   "outputs": [
    {
     "data": {
      "text/plain": [
       "'Stretto Favata 99\\nQuarto Sandro, 71724 Olbia-Tempio (MB)'"
      ]
     },
     "execution_count": 12,
     "metadata": {},
     "output_type": "execute_result"
    }
   ],
   "source": [
    "# Some locale options:\n",
    "# \n",
    "\n",
    "fake = Faker('it_IT')\n",
    "fake.address()"
   ]
  },
  {
   "cell_type": "markdown",
   "id": "regulation-volunteer",
   "metadata": {},
   "source": [
    "#### Create an entire profile at once"
   ]
  },
  {
   "cell_type": "code",
   "execution_count": 13,
   "id": "periodic-charter",
   "metadata": {},
   "outputs": [
    {
     "data": {
      "text/plain": [
       "{'job': 'Medical sales representative',\n",
       " 'company': 'Combs, Schwartz and Taylor',\n",
       " 'ssn': '836-45-2165',\n",
       " 'residence': '24626 Sheryl Motorway\\nChristineland, GA 52648',\n",
       " 'current_location': (Decimal('-43.5894455'), Decimal('-52.895738')),\n",
       " 'blood_group': 'AB+',\n",
       " 'website': ['https://stevenson-marks.com/',\n",
       "  'https://anderson.net/',\n",
       "  'https://torres.com/'],\n",
       " 'username': 'davidortiz',\n",
       " 'name': 'Sarah Schmidt',\n",
       " 'sex': 'F',\n",
       " 'address': '3074 Jarvis Hill Suite 701\\nJenkinsland, NE 15939',\n",
       " 'mail': 'qsantiago@yahoo.com',\n",
       " 'birthdate': datetime.date(1945, 9, 23)}"
      ]
     },
     "execution_count": 13,
     "metadata": {},
     "output_type": "execute_result"
    }
   ],
   "source": [
    "fake = Faker()\n",
    "fake.profile()"
   ]
  },
  {
   "cell_type": "markdown",
   "id": "funny-single",
   "metadata": {},
   "source": [
    "### Read more"
   ]
  },
  {
   "cell_type": "markdown",
   "id": "false-conjunction",
   "metadata": {},
   "source": [
    "[1] https://faker.readthedocs.io/en/master/ <br>\n",
    "[2] https://towardsdatascience.com/how-to-create-fake-data-with-faker-a835e5b7a9d9"
   ]
  }
 ],
 "metadata": {
  "kernelspec": {
   "display_name": "Python 3",
   "language": "python",
   "name": "python3"
  },
  "language_info": {
   "codemirror_mode": {
    "name": "ipython",
    "version": 3
   },
   "file_extension": ".py",
   "mimetype": "text/x-python",
   "name": "python",
   "nbconvert_exporter": "python",
   "pygments_lexer": "ipython3",
   "version": "3.7.10"
  }
 },
 "nbformat": 4,
 "nbformat_minor": 5
}
