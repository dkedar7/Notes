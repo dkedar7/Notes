{
 "cells": [
  {
   "cell_type": "raw",
   "id": "bed8a435",
   "metadata": {},
   "source": [
    "---\n",
    "title: \"Object Detection with Hugging Face Transformers\"\n",
    "author: \"Kedar Dabhadkar\"\n",
    "date: 2021-01-03T05:46:18.464519\n",
    "description: \"How to use HuggingFace Transformers to build your own object detection\"\n",
    "type: technical_note\n",
    "draft: false\n",
    "---"
   ]
  },
  {
   "cell_type": "markdown",
   "id": "a3801716",
   "metadata": {},
   "source": [
    "### How to use HuggingFace Transformers to build your own object detection"
   ]
  },
  {
   "cell_type": "code",
   "execution_count": 1,
   "id": "05f16d4d",
   "metadata": {},
   "outputs": [],
   "source": [
    "# !pip install transformers==4.6.1\n",
    "# !pip install sentencepiece\n",
    "# !pip install protobuf"
   ]
  },
  {
   "cell_type": "code",
   "execution_count": 2,
   "id": "a1a6ad70",
   "metadata": {},
   "outputs": [
    {
     "ename": "ModuleNotFoundError",
     "evalue": "No module named 'transformers'",
     "output_type": "error",
     "traceback": [
      "\u001b[1;31m---------------------------------------------------------------------------\u001b[0m",
      "\u001b[1;31mModuleNotFoundError\u001b[0m                       Traceback (most recent call last)",
      "\u001b[1;32m~\\AppData\\Local\\Temp/ipykernel_17336/1239257601.py\u001b[0m in \u001b[0;36m<module>\u001b[1;34m\u001b[0m\n\u001b[1;32m----> 1\u001b[1;33m \u001b[1;32mfrom\u001b[0m \u001b[0mtransformers\u001b[0m \u001b[1;32mimport\u001b[0m \u001b[0mAutoFeatureExtractor\u001b[0m\u001b[1;33m,\u001b[0m \u001b[0mAutoModelForObjectDetection\u001b[0m\u001b[1;33m\u001b[0m\u001b[1;33m\u001b[0m\u001b[0m\n\u001b[0m\u001b[0;32m      2\u001b[0m \u001b[1;33m\u001b[0m\u001b[0m\n\u001b[0;32m      3\u001b[0m \u001b[0mextractor\u001b[0m \u001b[1;33m=\u001b[0m \u001b[0mAutoFeatureExtractor\u001b[0m\u001b[1;33m.\u001b[0m\u001b[0mfrom_pretrained\u001b[0m\u001b[1;33m(\u001b[0m\u001b[1;34m\"facebook/detr-resnet-50\"\u001b[0m\u001b[1;33m)\u001b[0m\u001b[1;33m\u001b[0m\u001b[1;33m\u001b[0m\u001b[0m\n\u001b[0;32m      4\u001b[0m \u001b[0mmodel\u001b[0m \u001b[1;33m=\u001b[0m \u001b[0mAutoModelForObjectDetection\u001b[0m\u001b[1;33m.\u001b[0m\u001b[0mfrom_pretrained\u001b[0m\u001b[1;33m(\u001b[0m\u001b[1;34m\"facebook/detr-resnet-50\"\u001b[0m\u001b[1;33m)\u001b[0m\u001b[1;33m\u001b[0m\u001b[1;33m\u001b[0m\u001b[0m\n",
      "\u001b[1;31mModuleNotFoundError\u001b[0m: No module named 'transformers'"
     ]
    }
   ],
   "source": [
    "from transformers import AutoFeatureExtractor, AutoModelForObjectDetection\n",
    "\n",
    "extractor = AutoFeatureExtractor.from_pretrained(\"facebook/detr-resnet-50\")\n",
    "model = AutoModelForObjectDetection.from_pretrained(\"facebook/detr-resnet-50\")"
   ]
  },
  {
   "cell_type": "markdown",
   "id": "bf7d4961",
   "metadata": {},
   "source": [
    "#### Write evaluation functions"
   ]
  },
  {
   "cell_type": "code",
   "execution_count": 3,
   "id": "df31f575",
   "metadata": {},
   "outputs": [],
   "source": [
    "# Write a wrapper function to generate a Q&A pipeline from any specified model\n",
    "def transformer_models(model_name):\n",
    "    model =  AutoModelForQuestionAnswering.from_pretrained(model_name)\n",
    "    tokenizer = AutoTokenizer.from_pretrained(model_name)\n",
    "    qa_pipeline = pipeline('question-answering', model=model, tokenizer=tokenizer)\n",
    "    return qa_pipeline\n",
    "\n",
    "\n",
    "# Q&A using the default DistilBERT model\n",
    "def distilbert_answer(context, query):\n",
    "    '''\n",
    "    Evaluate the specified context and query using DistilBERT\n",
    "    '''\n",
    "    distilbert_model = pipeline('question-answering')\n",
    "    try:\n",
    "        res = distilbert_model(question=query, context=context)\n",
    "        return res['answer']\n",
    "    except:\n",
    "        return \"Snap! The model couldn't find an answer. Try a different query.\"\n",
    "\n",
    "    \n",
    "# Q&A using the default RoBERTa model\n",
    "def roberta_answer(context, query):\n",
    "    '''\n",
    "    Evaluate the specified context and query using RoBERTa\n",
    "    '''\n",
    "    roberta_model = transformer_models(\"deepset/roberta-base-squad2\")\n",
    "    try:\n",
    "        res = roberta_model(question=query, context=context)\n",
    "        return res['answer']\n",
    "    except:\n",
    "        return \"Snap! The model couldn't find an answer. Try a different query.\"\n",
    "\n",
    "    \n",
    "# Q&A using the default ALBERT model\n",
    "def albert_answer(context, query):\n",
    "    '''\n",
    "    Evaluate the specified context and query using ALBERT\n",
    "    '''\n",
    "    albert_model = transformer_models(\"twmkn9/albert-base-v2-squad2\")\n",
    "    try:\n",
    "        res = albert_model(question=query, context=context)\n",
    "        return res['answer']\n",
    "    except:\n",
    "        return \"Snap! The model couldn't find an answer. Try a different query.\""
   ]
  },
  {
   "cell_type": "markdown",
   "id": "f714da52",
   "metadata": {},
   "source": [
    "#### Input passage"
   ]
  },
  {
   "cell_type": "code",
   "execution_count": 4,
   "id": "05f038a9",
   "metadata": {},
   "outputs": [],
   "source": [
    "context = \"\"\"Let me tell you how you can play the money beat on your drums. To get this beat going start \n",
    "with one part at a time. This way you can part your mind, and feel the groove a lot better. With your hi hat, \n",
    "play constant eight notes. We will add in some accents in the future, but for now, just play eight notes. \n",
    "Remember to count out loud when you are playing, it will help you out a lot!\n",
    "\n",
    "Now that you have got this, try to not think about it. When people first learn to play the drums they usually \n",
    "think too much. This is where they start to make mistakes, they overthink. Your hi hat hand will not change \n",
    "this motion, so try to forget about it. Now it's time to concentrate on your other hand. With this hand, you will \n",
    "be playing quarter notes on the snare. These snare hits will be on the 2 and 4 count.\n",
    "\n",
    "Good! Now let’s finish it off with the bass drum. This too will be playing quarter notes, however, not on the \n",
    "2 and four. Most beginners will have trouble with this, they will end up playing their snare and bass drum at \n",
    "the same time. Take your time and it will come to you. Play the bass on 1 and 3 counts.\"\"\""
   ]
  },
  {
   "cell_type": "code",
   "execution_count": 5,
   "id": "93fb32e0",
   "metadata": {},
   "outputs": [],
   "source": [
    "context = context.replace(\"\\n\", \" \")"
   ]
  },
  {
   "cell_type": "markdown",
   "id": "7385815c",
   "metadata": {},
   "source": [
    "#### Ask a question"
   ]
  },
  {
   "cell_type": "code",
   "execution_count": 6,
   "id": "3dbad303",
   "metadata": {},
   "outputs": [],
   "source": [
    "query = \"What is this passage about?\""
   ]
  },
  {
   "cell_type": "code",
   "execution_count": 7,
   "id": "e26afbf2",
   "metadata": {},
   "outputs": [
    {
     "data": {
      "text/plain": [
       "' how you can play the money beat on your drums.'"
      ]
     },
     "execution_count": 7,
     "metadata": {},
     "output_type": "execute_result"
    }
   ],
   "source": [
    "# ALBERT\n",
    "albert_answer(context, query)"
   ]
  },
  {
   "cell_type": "code",
   "execution_count": 8,
   "id": "63540a88",
   "metadata": {},
   "outputs": [
    {
     "data": {
      "text/plain": [
       "'where they start to make mistakes'"
      ]
     },
     "execution_count": 8,
     "metadata": {},
     "output_type": "execute_result"
    }
   ],
   "source": [
    "# DistilBERT\n",
    "distilbert_answer(context, query)"
   ]
  },
  {
   "cell_type": "code",
   "execution_count": 9,
   "id": "ebd7c5a5",
   "metadata": {},
   "outputs": [
    {
     "data": {
      "text/plain": [
       "'money beat'"
      ]
     },
     "execution_count": 9,
     "metadata": {},
     "output_type": "execute_result"
    }
   ],
   "source": [
    "# RoBERTa\n",
    "roberta_answer(context, query)"
   ]
  },
  {
   "cell_type": "markdown",
   "id": "74d56c13",
   "metadata": {},
   "source": [
    "#### Let's compare answers for various questions"
   ]
  },
  {
   "cell_type": "code",
   "execution_count": 10,
   "id": "0b83ee4b",
   "metadata": {},
   "outputs": [],
   "source": [
    "queries = [\"What is this passage about?\",\n",
    "          \"How can one play the money beat?\",\n",
    "          \"Where does on play the quarter notes?\",\n",
    "          \"Where does one play the bass?\",\n",
    "          \"What mistakes do beginners make?\"]"
   ]
  },
  {
   "cell_type": "code",
   "execution_count": 11,
   "id": "b1a33f6c",
   "metadata": {},
   "outputs": [],
   "source": [
    "model_names = [\"DistilBERT\", \"RoBERTa\", \"ALBERT\"]\n",
    "distilbert_answers, roberta_answers, albert_answers = [], [], []\n",
    "for query in queries:\n",
    "    distilbert_answers.append(distilbert_answer(context, query))\n",
    "    roberta_answers.append(roberta_answer(context, query))\n",
    "    albert_answers.append(albert_answer(context, query))"
   ]
  },
  {
   "cell_type": "code",
   "execution_count": 12,
   "id": "40198d23",
   "metadata": {},
   "outputs": [
    {
     "data": {
      "text/html": [
       "<div>\n",
       "<style scoped>\n",
       "    .dataframe tbody tr th:only-of-type {\n",
       "        vertical-align: middle;\n",
       "    }\n",
       "\n",
       "    .dataframe tbody tr th {\n",
       "        vertical-align: top;\n",
       "    }\n",
       "\n",
       "    .dataframe thead th {\n",
       "        text-align: right;\n",
       "    }\n",
       "</style>\n",
       "<table border=\"1\" class=\"dataframe\">\n",
       "  <thead>\n",
       "    <tr style=\"text-align: right;\">\n",
       "      <th></th>\n",
       "      <th>Query</th>\n",
       "      <th>DistilBERT</th>\n",
       "      <th>RoBERTa</th>\n",
       "      <th>ALBERT</th>\n",
       "    </tr>\n",
       "  </thead>\n",
       "  <tbody>\n",
       "    <tr>\n",
       "      <th>0</th>\n",
       "      <td>What is this passage about?</td>\n",
       "      <td>where they start to make mistakes</td>\n",
       "      <td>money beat</td>\n",
       "      <td>how you can play the money beat on your drums.</td>\n",
       "    </tr>\n",
       "    <tr>\n",
       "      <th>1</th>\n",
       "      <td>How can one play the money beat?</td>\n",
       "      <td>on your drums</td>\n",
       "      <td>start  with one part at a time</td>\n",
       "      <td>start  with one part at a time.</td>\n",
       "    </tr>\n",
       "    <tr>\n",
       "      <th>2</th>\n",
       "      <td>Where does on play the quarter notes?</td>\n",
       "      <td>the snare</td>\n",
       "      <td>on the snare</td>\n",
       "      <td>on the snare.</td>\n",
       "    </tr>\n",
       "    <tr>\n",
       "      <th>3</th>\n",
       "      <td>Where does one play the bass?</td>\n",
       "      <td>1 and 3 counts</td>\n",
       "      <td>1 and 3 counts</td>\n",
       "      <td>1 and 3 counts.</td>\n",
       "    </tr>\n",
       "    <tr>\n",
       "      <th>4</th>\n",
       "      <td>What mistakes do beginners make?</td>\n",
       "      <td>snare and bass drum</td>\n",
       "      <td>they overthink</td>\n",
       "      <td>playing their snare and bass drum at  the sam...</td>\n",
       "    </tr>\n",
       "  </tbody>\n",
       "</table>\n",
       "</div>"
      ],
      "text/plain": [
       "                                   Query                         DistilBERT  \\\n",
       "0            What is this passage about?  where they start to make mistakes   \n",
       "1       How can one play the money beat?                      on your drums   \n",
       "2  Where does on play the quarter notes?                          the snare   \n",
       "3          Where does one play the bass?                     1 and 3 counts   \n",
       "4       What mistakes do beginners make?                snare and bass drum   \n",
       "\n",
       "                          RoBERTa  \\\n",
       "0                      money beat   \n",
       "1  start  with one part at a time   \n",
       "2                    on the snare   \n",
       "3                  1 and 3 counts   \n",
       "4                  they overthink   \n",
       "\n",
       "                                              ALBERT  \n",
       "0     how you can play the money beat on your drums.  \n",
       "1                    start  with one part at a time.  \n",
       "2                                      on the snare.  \n",
       "3                                    1 and 3 counts.  \n",
       "4   playing their snare and bass drum at  the sam...  "
      ]
     },
     "execution_count": 12,
     "metadata": {},
     "output_type": "execute_result"
    }
   ],
   "source": [
    "results = pd.DataFrame()\n",
    "results['Query'] = queries\n",
    "results['DistilBERT'] = distilbert_answers\n",
    "results['RoBERTa'] = roberta_answers\n",
    "results['ALBERT'] = albert_answers\n",
    "results"
   ]
  },
  {
   "cell_type": "markdown",
   "id": "27158143",
   "metadata": {},
   "source": [
    "#### Read more"
   ]
  },
  {
   "cell_type": "markdown",
   "id": "3cdbad2b",
   "metadata": {},
   "source": [
    "[1] HuggingFace Tranformers pipeline: https://huggingface.co/transformers/main_classes/pipelines.html#transformers.QuestionAnsweringPipeline <br>\n",
    "[2] DiltilBERT: https://huggingface.co/transformers/model_doc/distilbert.html <br>\n",
    "[3] RoBERTa: https://huggingface.co/transformers/model_doc/roberta.html <br>\n",
    "[4] ALBERT: https://huggingface.co/transformers/model_doc/albert.html"
   ]
  }
 ],
 "metadata": {
  "kernelspec": {
   "display_name": "Python 3 (ipykernel)",
   "language": "python",
   "name": "python3"
  },
  "language_info": {
   "codemirror_mode": {
    "name": "ipython",
    "version": 3
   },
   "file_extension": ".py",
   "mimetype": "text/x-python",
   "name": "python",
   "nbconvert_exporter": "python",
   "pygments_lexer": "ipython3",
   "version": "3.9.7"
  }
 },
 "nbformat": 4,
 "nbformat_minor": 5
}
