{
 "cells": [
  {
   "cell_type": "raw",
   "id": "9266df3f",
   "metadata": {
    "slideshow": {
     "slide_type": "skip"
    },
    "tags": []
   },
   "source": [
    "---\n",
    "title: \"Using FastAPI to Deploy ML Models\"\n",
    "author: \"Kedar Dabhadkar\"\n",
    "date: 2021-12-19T05:46:18.464519\n",
    "description: \"Notes on using FastAPI as I go through the online documentation\"\n",
    "type: technical_note\n",
    "draft: false\n",
    "---"
   ]
  },
  {
   "cell_type": "markdown",
   "id": "cb350eae",
   "metadata": {
    "slideshow": {
     "slide_type": "slide"
    },
    "tags": []
   },
   "source": [
    "<h1><center>Using FastAPI to Deploy ML Models</center></h1>\n",
    "<center><h4>Notes on using FastAPI as I go through the online documentation</h4></center>\n",
    "\n",
    "<br>\n",
    "<br>\n",
    "\n",
    "Kedar Dabhadkar <br>\n",
    "Data Scientist<br>\n",
    "linkedin.com/in/dkedar7"
   ]
  },
  {
   "cell_type": "markdown",
   "id": "79c8b91b-7a16-4b0b-9437-ca55cbe1f495",
   "metadata": {
    "slideshow": {
     "slide_type": "slide"
    },
    "tags": []
   },
   "source": [
    "## What is FastAPI?\n",
    "\n",
    "- This is what FastAPI is"
   ]
  },
  {
   "cell_type": "markdown",
   "id": "f45ddc78-8e6a-47b6-bd51-73d3767e5d9f",
   "metadata": {
    "slideshow": {
     "slide_type": "slide"
    },
    "tags": []
   },
   "source": [
    "## First steps\n",
    "\n",
    "- This is simply how we define an app and write our first GET request.\n",
    "\n",
    "```python\n",
    "from fastapi import FastAPI\n",
    "\n",
    "app = FastAPI()\n",
    "\n",
    "@app.get(\"/\")\n",
    "async def root():\n",
    "    return {\"message\": \"Hello World\"}\n",
    "```\n",
    "\n",
    "- If this code is saved to main.py, use the follwowing to run it from the command line:\n",
    "```\n",
    "uvicorn main:app --reload\n",
    "```\n",
    "\n",
    "- FastAPI also automatically generates a Swagger documentation at 'http://127.0.0.1:8000'\n",
    " ```"
   ]
  },
  {
   "cell_type": "code",
   "execution_count": null,
   "id": "0950478d-78e4-44d2-859a-ea8ef40813a4",
   "metadata": {
    "slideshow": {
     "slide_type": "skip"
    },
    "tags": []
   },
   "outputs": [],
   "source": []
  },
  {
   "cell_type": "markdown",
   "id": "2f079b9e-69cf-45d0-a868-07992521bb53",
   "metadata": {
    "slideshow": {
     "slide_type": "slide"
    },
    "tags": []
   },
   "source": [
    "## 1. Path parameters\n",
    "\n",
    "- Path parameters or variables can be defined in the decorator and also as an input to the function.\n",
    "\n",
    "```python\n",
    "@app.get(\"/items/{item_id}\")\n",
    "def read_item(item_id: int):\n",
    "    return {\"item_id\": item_id}\n",
    "```\n",
    "- Value of 'item_id' is passed to the function\n",
    "- This function is run when a user accesses the endpoint 'http://127.0.0.1:8000/items/3'"
   ]
  },
  {
   "cell_type": "markdown",
   "id": "0d3f17ff-98d7-4d0f-a006-91b85f7c50ca",
   "metadata": {
    "slideshow": {
     "slide_type": "skip"
    },
    "tags": []
   },
   "source": []
  },
  {
   "cell_type": "markdown",
   "id": "2354ff03-6b00-4a49-ad3b-656589f9a149",
   "metadata": {
    "slideshow": {
     "slide_type": "subslide"
    },
    "tags": []
   },
   "source": [
    "- Also, order matters.\n",
    "- In the following example, although `/users/me` matches with the pattern `/users/{user_id}`, it's executed first because it appears first\n",
    "\n",
    "```python\n",
    "@app.get(\"/users/me\")\n",
    "def read_user_me():\n",
    "    return {\"user_id\": \"the current user\"}\n",
    "\n",
    "@app.get(\"/users/{user_id}\")\n",
    "def read_user(user_id: str):\n",
    "    return {\"user_id\": user_id}\n",
    "```"
   ]
  },
  {
   "cell_type": "code",
   "execution_count": null,
   "id": "e92254aa-d045-42e5-abff-c4835a82d1ee",
   "metadata": {
    "slideshow": {
     "slide_type": "skip"
    },
    "tags": []
   },
   "outputs": [],
   "source": []
  },
  {
   "cell_type": "markdown",
   "id": "273e7eac-51ee-44ca-bd3a-0e6767cf9f00",
   "metadata": {
    "slideshow": {
     "slide_type": "slide"
    },
    "tags": []
   },
   "source": [
    "## 2. Query Parameters\n",
    "\n",
    "- All the function arguments that are not a part of the path parameters are treated as query parameters.\n",
    "- Query parameters appear after `?` in a URL and are separated by `&`\n",
    "\n",
    "```python\n",
    "@app.get(\"/items/\")\n",
    "async def read_item(skip: int = 0, limit: int = 10):\n",
    "    return data[skip : skip + limit]\n",
    "```\n",
    "\n",
    "- If a default value is set in the function arguments, these parameters become optional. If not, they are mandatory."
   ]
  },
  {
   "cell_type": "markdown",
   "id": "8c933c4b-96e6-4c10-8379-d1b8da02d655",
   "metadata": {
    "slideshow": {
     "slide_type": "subslide"
    },
    "tags": []
   },
   "source": [
    "## Multiple path and query parameters\n",
    "\n",
    "- You can declare multiple path parameters and query parameters at the same time, FastAPI knows which is which.\n",
    "- They will be detected by name, so the order doesn't matter.\n",
    "- For example,\n",
    "```python\n",
    "@app.get(\"/users/{user_id}/items/{item_id}\")\n",
    "async def read_user_item(\n",
    "    user_id: int, item_id: str, q: str = None, short: bool = False\n",
    ")\n",
    "...\n",
    "```"
   ]
  },
  {
   "cell_type": "code",
   "execution_count": null,
   "id": "a4924278-4ff1-43f4-a141-8d2aa69c7847",
   "metadata": {
    "slideshow": {
     "slide_type": "skip"
    },
    "tags": []
   },
   "outputs": [],
   "source": []
  },
  {
   "cell_type": "markdown",
   "id": "0c5f9e73-9943-4cc9-8089-ea32f97ce9db",
   "metadata": {
    "slideshow": {
     "slide_type": "slide"
    },
    "tags": []
   },
   "source": [
    "## 3. Request Body\n",
    "\n",
    "- A request body is data sent by the client to your API.\n",
    "- To declare a request body, you use Pydantic models.\n",
    "- A request body is usually applicable to non-GET APIs (most POST)\n",
    "\n",
    "```python\n",
    "from typing import Optional\n",
    "from fastapi import FastAPI\n",
    "from pydantic import BaseModel\n",
    "\n",
    "class Item(BaseModel):\n",
    "    name: str\n",
    "    description: Optional[str] = None\n",
    "    price: float\n",
    "    tax: Optional[float] = None\n",
    "\n",
    "app = FastAPI()\n",
    "\n",
    "@app.post(\"/items/\")\n",
    "async def create_item(item: Item):\n",
    "    return item\n",
    "```"
   ]
  },
  {
   "cell_type": "code",
   "execution_count": null,
   "id": "8992e57d-69c8-4ec5-bf46-0b10198141de",
   "metadata": {
    "slideshow": {
     "slide_type": "skip"
    },
    "tags": []
   },
   "outputs": [],
   "source": []
  },
  {
   "cell_type": "markdown",
   "id": "3922df4f-d074-4a88-80ce-c01b235c08fd",
   "metadata": {
    "slideshow": {
     "slide_type": "subslide"
    },
    "tags": []
   },
   "source": [
    "## Request body + path + query parameters\n",
    "\n",
    "- You can also declare body, path and query parameters, all at the same time\n",
    "\n",
    "```python\n",
    "@app.put(\"/items/{item_id}\")\n",
    "def create_item(item_id: int, item: Item, q: Optional[str] = None):\n",
    "    result = {\"item_id\": item_id, **item.dict()}\n",
    "    if q:\n",
    "        result.update({\"q\": q})\n",
    "    return result\n",
    "```\n",
    "\n",
    "- If the parameter is also declared in the path, it will be used as a path parameter.\n",
    "- If the parameter is of a singular type (like int, float, str, bool, etc) it will be interpreted as a query parameter\n",
    "- If the parameter is declared to be of the type of a Pydantic model, it will be interpreted as a request body."
   ]
  },
  {
   "cell_type": "code",
   "execution_count": null,
   "id": "18b525dc-8f8c-4089-ae23-0a4d75f802a1",
   "metadata": {
    "slideshow": {
     "slide_type": "skip"
    },
    "tags": []
   },
   "outputs": [],
   "source": []
  },
  {
   "cell_type": "markdown",
   "id": "83ef8503-249e-4cd2-8b37-2904b458ba68",
   "metadata": {
    "slideshow": {
     "slide_type": "slide"
    },
    "tags": []
   },
   "source": [
    "## 4. Query Parameters and String Validations\n",
    "\n",
    "- FastAPI allows you to declare additional information and validation for your parameters.\n",
    "\n",
    "**Example 1.** Length of parameter doesn't exceed 50 characters and it is optional\n",
    "```python\n",
    "from fastapi import FastAPI, Query\n",
    "\n",
    "@app.get(\"/items/\")\n",
    "def read_items(q: Optional[str] = Query(None, max_length=50)):\n",
    "    ...\n",
    "```\n",
    "The `Optional` keyword is only to guide our code editor. Here, `None` is the default value.\n",
    "\n",
    "\n",
    "**Example 2.** In addition, the minimum length should be 3\n",
    "```python\n",
    "@app.get(\"/items/\")\n",
    "def read_items(q: Optional[str] = Query(None, min_length=3, max_length=50)):\n",
    "    ...\n",
    "```\n",
    "\n",
    "\n",
    "**Example 3.** It should match the regex `^fixedquery$`\n",
    "```python\n",
    "@app.get(\"/items/\")\n",
    "def read_items(q: Optional[str] = Query(None, min_length=3, max_length=50, regex=\"^fixedquery$\")):\n",
    "    ...\n",
    "```"
   ]
  },
  {
   "cell_type": "markdown",
   "id": "ba77a406-fe4d-441b-b2af-91f6bcc019a6",
   "metadata": {
    "slideshow": {
     "slide_type": "subslide"
    },
    "tags": []
   },
   "source": [
    "**Example 4**. When you want to declare a variable as required while using `Query`\n",
    "```python\n",
    "@app.get(\"/items/\")\n",
    "def read_items(q: Optional[str] = Query(..., min_length=3)):\n",
    "    ...\n",
    "```\n",
    "`...` is called the Ellipsis in Python.\n",
    "\n",
    "**Example 5.** Query parameter list / multiple values\n",
    "```python\n",
    "@app.get(\"/items/\")\n",
    "def read_items(q: Optional[List[str]] = Query(None)):\n",
    "    ...\n",
    "```\n",
    "\n",
    "**Example 6.** Query parameter list / multiple values with defaults\n",
    "```python\n",
    "@app.get(\"/items/\")\n",
    "def read_items(q: Optional[List[str]] = Query([\"foo\", \"bar\"])):\n",
    "    ...\n",
    "```"
   ]
  },
  {
   "cell_type": "markdown",
   "id": "9e9caf49-4305-450f-bd18-3959b50d17df",
   "metadata": {
    "slideshow": {
     "slide_type": "subslide"
    },
    "tags": []
   },
   "source": [
    "**Example 7.** Declare more metadata\n",
    "```python\n",
    "@app.get(\"/items/\")\n",
    "def read_items(\n",
    "    q: Optional[str] = Query(\n",
    "        None,\n",
    "        alias=\"item-query\",\n",
    "        title=\"Query string\",\n",
    "        description=\"Query string for the items to search in the database that have a good match\",\n",
    "        min_length=3,\n",
    "        max_length=50,\n",
    "        regex=\"^fixedquery$\",\n",
    "        deprecated=True,\n",
    "    )\n",
    "):\n",
    "    ...\n",
    "```\n",
    "This indicates that the parameter\n",
    " - Is an alias for `item-query`\n",
    " - Has the mentioned title and decription\n",
    " - And is deprecated"
   ]
  },
  {
   "cell_type": "code",
   "execution_count": null,
   "id": "3e95c860-2b32-45fa-b44c-6d32b1979311",
   "metadata": {
    "slideshow": {
     "slide_type": "skip"
    },
    "tags": []
   },
   "outputs": [],
   "source": []
  },
  {
   "cell_type": "markdown",
   "id": "3a30e180-70fd-47cf-a04b-6df0a2c181d4",
   "metadata": {},
   "source": [
    "## 5. Path parameters and numeric validations\n",
    "\n"
   ]
  },
  {
   "cell_type": "markdown",
   "id": "a999748c-8824-4881-aa79-02effb049feb",
   "metadata": {},
   "source": [
    "### Path parameters\n",
    "\n",
    "- You can declare the same type of validations and metadata for path parameters with Path.\n",
    "- You can declare all the same parameters as for `Query`.\n",
    "\n",
    "For example,\n",
    "```python\n",
    "@app.get(\"/items/{item_id}\")\n",
    "def read_items(\n",
    "    item_id: int = Path(..., title=\"The ID of the item to get\"),\n",
    "    q: Optional[str] = Query(None, alias=\"item-query\"),\n",
    "):\n",
    "    ...\n",
    "```"
   ]
  },
  {
   "cell_type": "markdown",
   "id": "8e8f627a-57da-44be-b938-734d888af8ad",
   "metadata": {},
   "source": [
    "### Numeric validations\n",
    "\n",
    "- Just like string validations, you can also define numeric validations.\n",
    "- Examples: `ge`: greater than or equal to, `le`: less than or equal to, `gt`: greater than, and `lt`: less than.\n",
    "\n",
    "```python\n",
    "@app.get(\"/items/{item_id}\")\n",
    "def read_items(\n",
    "    item_id: int = Path(..., gt=0, lt=1)\n",
    "):\n",
    "    ...\n",
    "```"
   ]
  },
  {
   "cell_type": "code",
   "execution_count": null,
   "id": "25cfe882-4627-4307-909c-cd340209933d",
   "metadata": {},
   "outputs": [],
   "source": []
  },
  {
   "cell_type": "markdown",
   "id": "1d05b09d-8223-4bd5-9b72-334b36de50a2",
   "metadata": {},
   "source": [
    "## 6. Multi-body parameters\n",
    "\n",
    "- Like `Query` for query params and `Path` for path params, FastAPI has `Body` for body parameters.\n",
    "- All the same arguments apply for body params\n",
    "- As we saw earlier, FastAPI identifies body parameters if they are instances of `BaseModel`.\n",
    "\n",
    "Example of defining path, query and body parameters together\n",
    "```python\n",
    "class Item(BaseModel):\n",
    "    name: str\n",
    "    description: Optional[str] = None\n",
    "    price: float\n",
    "    tax: Optional[float] = None\n",
    "    \n",
    "def update_item(\n",
    "    item_id: int = Path(..., title=\"The ID of the item to get\", ge=0, le=1000),\n",
    "    q: Optional[str] = None,\n",
    "    item: Optional[Item] = None,\n",
    "):\n",
    "    ...\n",
    "```"
   ]
  },
  {
   "cell_type": "markdown",
   "id": "29301b29-4831-4291-ae56-d9a99f292bf0",
   "metadata": {},
   "source": [
    "### Specifying multiple body parameters\n",
    "\n",
    "- Simply define multiple `BaseModel` derived classes\n",
    "\n",
    "```python\n",
    "class Item(BaseModel):\n",
    "    name: str\n",
    "    description: Optional[str] = None\n",
    "    price: float\n",
    "    tax: Optional[float] = None\n",
    "\n",
    "\n",
    "class User(BaseModel):\n",
    "    username: str\n",
    "    full_name: Optional[str] = None\n",
    " ```\n",
    " \n",
    " - The expected body should look like this\n",
    " ```json\n",
    " {\n",
    "    \"item\": {\n",
    "        \"name\": \"Foo\",\n",
    "        \"description\": \"The pretender\",\n",
    "        \"price\": 42.0,\n",
    "        \"tax\": 3.2\n",
    "    },\n",
    "    \"user\": {\n",
    "        \"username\": \"dave\",\n",
    "        \"full_name\": \"Dave Grohl\"\n",
    "    }\n",
    "}\n",
    "```\n",
    "\n",
    "- Or the body parameters can be singular values\n",
    "```python\n",
    "def update_item(\n",
    "    item_id: int, item: Item, user: User, importance: int = Body(..., title=\"\", description=\"\")\n",
    "):\n",
    "```\n",
    "\n",
    "In this case, FastAPI will expect a body like:\n",
    "```json\n",
    "{\n",
    "    \"item\": {\n",
    "        \"name\": \"Foo\",\n",
    "        \"description\": \"The pretender\",\n",
    "        \"price\": 42.0,\n",
    "        \"tax\": 3.2\n",
    "    },\n",
    "    \"user\": {\n",
    "        \"username\": \"dave\",\n",
    "        \"full_name\": \"Dave Grohl\"\n",
    "    },\n",
    "    \"importance\": 5\n",
    "}\n",
    "```"
   ]
  },
  {
   "cell_type": "code",
   "execution_count": null,
   "id": "4803de3f-68fb-4eb4-98c3-3ff61a5e1633",
   "metadata": {},
   "outputs": [],
   "source": []
  },
  {
   "cell_type": "markdown",
   "id": "ce58f7d0-7ecd-40a2-81b4-15c59599aaa0",
   "metadata": {},
   "source": [
    "## 7. Body - Fields\n",
    "\n",
    "- You can declare validation and metadata inside of Pydantic models using Pydantic's `Field`.\n",
    "\n",
    "- `Field` works the same way as Query, Path and Body, it has all the same parameters, etc.\n",
    "\n",
    "\n",
    "```python\n",
    "from pydantic import BaseModel, Field\n",
    "\n",
    "class Item(BaseModel):\n",
    "    name: str\n",
    "    description: Optional[str] = Field(\n",
    "        None, title=\"The description of the item\", max_length=300\n",
    "    )\n",
    "    price: float = Field(..., gt=0, description=\"The price must be greater than zero\")\n",
    "    tax: Optional[float] = None\n",
    "```"
   ]
  },
  {
   "cell_type": "code",
   "execution_count": null,
   "id": "7530fb0c-415e-4460-9c0b-5bc2221a31d7",
   "metadata": {},
   "outputs": [],
   "source": []
  },
  {
   "cell_type": "markdown",
   "id": "720fa25d-d63c-4c7e-b1d3-6cf8a6deef7a",
   "metadata": {},
   "source": [
    "## 8. Body - Nested Models"
   ]
  },
  {
   "cell_type": "markdown",
   "id": "80e61696-02e4-4338-bcd8-229e5bddf39d",
   "metadata": {},
   "source": [
    "### How do we have arrays/ lists in body parameters?\n",
    "\n",
    "- Use `List` datatype and include which type of objects should be entered in this.\n",
    "\n",
    "Example:\n",
    "```python\n",
    "from typing import List, Optional, Set\n",
    "\n",
    "class Item(BaseModel):\n",
    "    name: str\n",
    "    description: Optional[str] = None\n",
    "    price: float\n",
    "    tax: Optional[float] = None\n",
    "    tags: List[str] = []\n",
    "```"
   ]
  },
  {
   "cell_type": "markdown",
   "id": "c4d0f548-40f5-4302-9ccb-c09cac96110f",
   "metadata": {},
   "source": [
    "### How do we have nested models?\n",
    "\n",
    "- These Pydantic models act like `dict`s.\n",
    "\n",
    "```python\n",
    "class Image(BaseModel):\n",
    "    url: str\n",
    "    name: str\n",
    "\n",
    "class Item(BaseModel):\n",
    "    name: str\n",
    "    description: Optional[str] = None\n",
    "    price: float\n",
    "    tax: Optional[float] = None\n",
    "    tags: Set[str] = []\n",
    "    image: Optional[Image] = None\n",
    "```\n",
    "\n",
    "- Or you can also have the nested model as a list:\n",
    "\n",
    "```python\n",
    "class Image(BaseModel):\n",
    "    url: str\n",
    "    name: str\n",
    "\n",
    "class Item(BaseModel):\n",
    "    name: str\n",
    "    description: Optional[str] = None\n",
    "    price: float\n",
    "    tax: Optional[float] = None\n",
    "    tags: Set[str] = []\n",
    "    image: Optional[List[Image]] = None\n",
    "```"
   ]
  },
  {
   "cell_type": "code",
   "execution_count": null,
   "id": "91d4fabd-d02e-473d-962e-f0f0b10c0b04",
   "metadata": {},
   "outputs": [],
   "source": []
  },
  {
   "cell_type": "markdown",
   "id": "aef6516c-34d9-4d11-bc22-2c166163eaa9",
   "metadata": {},
   "source": [
    "## 9. Declare Request Example Data\n",
    "\n",
    "- You can declare an example for a Pydantic model using `Config` and `schema_extra`.\n",
    "\n",
    "```python\n",
    "class Item(BaseModel):\n",
    "    name: str\n",
    "    description: Optional[str] = None\n",
    "    price: float\n",
    "    tax: Optional[float] = None\n",
    "\n",
    "    class Config:\n",
    "        schema_extra = {\n",
    "            \"example\": {\n",
    "                \"name\": \"Foo\",\n",
    "                \"description\": \"A very nice Item\",\n",
    "                \"price\": 35.4,\n",
    "                \"tax\": 3.2,\n",
    "            }\n",
    "        }\n",
    "```"
   ]
  },
  {
   "cell_type": "markdown",
   "id": "769090c7-c137-40d8-bf24-5c75ff7118ab",
   "metadata": {},
   "source": [
    "### Using `example`\n",
    "\n",
    "- When using any of: `Path()`, `Query()`, `Header()`, `Cookie()`, `Body()`, `Form()`, `File()`\n",
    "you can also declare a data example or a group of examples with additional information that will be added to OpenAPI.\n",
    "\n",
    "```python\n",
    "@app.put(\"/items/{item_id}\")\n",
    "def update_item(\n",
    "    item_id: int,\n",
    "    item: Item = Body(\n",
    "        ...,\n",
    "        example={\n",
    "            \"name\": \"Foo\",\n",
    "            \"description\": \"A very nice Item\",\n",
    "            \"price\": 35.4,\n",
    "            \"tax\": 3.2,\n",
    "        },\n",
    "    ),\n",
    "):\n",
    "    ...\n",
    "````"
   ]
  },
  {
   "cell_type": "code",
   "execution_count": null,
   "id": "2ba1a22f-4cc1-4e65-9fa1-46cc25d983f9",
   "metadata": {},
   "outputs": [],
   "source": []
  },
  {
   "cell_type": "markdown",
   "id": "321cb9ab-dfad-4673-b0b6-9bab66afbf87",
   "metadata": {},
   "source": [
    "## 10. Extra data types\n",
    " List of additionl data types:\n",
    "https://fastapi.tiangolo.com/tutorial/extra-data-types/"
   ]
  },
  {
   "cell_type": "code",
   "execution_count": null,
   "id": "d42ed27d-b8a4-4802-961f-348388eae1ea",
   "metadata": {},
   "outputs": [],
   "source": []
  },
  {
   "cell_type": "markdown",
   "id": "280baddc-8d07-4d69-918c-26a47b6c68a0",
   "metadata": {},
   "source": [
    "## 11. Cookie parameters\n",
    "\n",
    "- You can define Cookie parameters the same way you define Query and Path parameters.\n",
    "\n",
    "Example:\n",
    "\n",
    "```python\n",
    "from typing import Optional\n",
    "from fastapi import Cookie, FastAPI\n",
    "app = FastAPI()\n",
    "\n",
    "@app.get(\"/items/\")\n",
    "async def read_items(ads_id: Optional[str] = Cookie(None)):\n",
    "    return {\"ads_id\": ads_id}\n",
    "```"
   ]
  },
  {
   "cell_type": "code",
   "execution_count": null,
   "id": "2b8e782a-9fe6-411f-9ce5-3473a533ffe7",
   "metadata": {},
   "outputs": [],
   "source": []
  },
  {
   "cell_type": "markdown",
   "id": "e6ef9a5e-2e20-43f1-b340-3887bd872273",
   "metadata": {},
   "source": [
    "## 12. Header Parameters\n",
    "\n",
    "- You can define Header parameters the same way you define Query, Path and Cookie parameters.\n",
    "\n",
    "```python\n",
    "from typing import Optional\n",
    "from fastapi import FastAPI, Header\n",
    "\n",
    "app = FastAPI()\n",
    "\n",
    "@app.get(\"/items/\")\n",
    "async def read_items(user_agent: Optional[str] = Header(None)):\n",
    "    return {\"User-Agent\": user_agent}\n",
    "\n",
    "```\n",
    "\n",
    "- Additionally with `Headers`, FastAPI will convert any `_`s to hyphens by default, since many headers have hyphens in them.\n",
    "- This behavior can be changed by changing the `convert_underscores` argument to `False` in `Query`."
   ]
  },
  {
   "cell_type": "code",
   "execution_count": null,
   "id": "c8cb46e0-5d32-4ddb-b378-46eb5d80a8d3",
   "metadata": {},
   "outputs": [],
   "source": []
  },
  {
   "cell_type": "markdown",
   "id": "65e18ddd-3616-4842-bb54-096132311da1",
   "metadata": {},
   "source": [
    "### Duplicate headers\n",
    "\n",
    "- It's possible for a request to specify duplicate headers.\n",
    "\n",
    "Like this:\n",
    "\n",
    "```python\n",
    "@app.get(\"/items/\")\n",
    "def read_items(x_token: Optional[List[str]] = Header(None)):\n",
    "    return {\"X-Token values\": x_token}\n",
    "```"
   ]
  },
  {
   "cell_type": "code",
   "execution_count": null,
   "id": "0fad97d0-de90-42bc-8909-2cf6f48426d2",
   "metadata": {},
   "outputs": [],
   "source": []
  },
  {
   "cell_type": "markdown",
   "id": "429d5e5f-6d71-46ac-b68a-7fd55b340861",
   "metadata": {},
   "source": [
    "## 13. Response Model\n",
    "\n",
    "- Just like you can specify a model for the input data, you can also specify a model for the response. This model needs to be given as an argument to the decorator.\n",
    "\n",
    "Example:\n",
    "\n",
    "```python\n",
    "class UserIn(BaseModel):\n",
    "    username: str\n",
    "    password: str\n",
    "    email: EmailStr\n",
    "    full_name: Optional[str] = None\n",
    "\n",
    "class UserOut(BaseModel):\n",
    "    username: str\n",
    "    email: EmailStr\n",
    "    full_name: Optional[str] = None\n",
    "\n",
    "@app.post(\"/user/\", response_model=UserOut)\n",
    "...\n",
    "```\n",
    "\n",
    "- If your response model has default values that you want to exclude from the response, you can specify the value of the argument `response_model_exclude_unset` to `True`.\n",
    "- This Pydantic argument is smart enough to different which values were not set at all (for which default got entered) vs the values that were entered but matched the default values by chance."
   ]
  },
  {
   "cell_type": "code",
   "execution_count": null,
   "id": "110b23f9-0b55-41c8-a5b9-345ca02dd4f2",
   "metadata": {},
   "outputs": [],
   "source": []
  },
  {
   "cell_type": "markdown",
   "id": "15eae236-dd4e-461b-83ea-9780bd8be830",
   "metadata": {},
   "source": [
    "## 14. Extra Models\n",
    "\n",
    "- Various models can inherit from the other to reduce redundancy in the code. This allows you to write just the difference between models.\n",
    "\n",
    "Example:\n",
    " \n",
    "```python\n",
    "class UserBase(BaseModel):\n",
    "    username: str\n",
    "    email: EmailStr\n",
    "    full_name: Optional[str] = None\n",
    "\n",
    "class UserIn(UserBase):\n",
    "    password: str\n",
    "    \n",
    "class UserOut(UserBase):\n",
    "    pass\n",
    "\n",
    "class UserInDB(UserBase):\n",
    "    hashed_password: str\n",
    "```\n",
    "\n",
    "- A response can be a union, intersection or a list of multiple models.\n",
    "\n",
    "```python\n",
    "class BaseItem(BaseModel):\n",
    "    description: str\n",
    "    type: str\n",
    "\n",
    "class CarItem(BaseItem):\n",
    "    type = \"car\"\n",
    "\n",
    "class PlaneItem(BaseItem):\n",
    "    type = \"plane\"\n",
    "    size: int\n",
    "    \n",
    "@app.get(\"/items/{item_id}\", response_model=Union[PlaneItem, CarItem])\n",
    "...\n",
    "```"
   ]
  },
  {
   "cell_type": "markdown",
   "id": "250a2471-cbfe-429f-bb88-8bf800668b2d",
   "metadata": {},
   "source": [
    "- Response can also be a List of models\n",
    "\n",
    "```python\n",
    "from typing import List\n",
    "\n",
    "class Item(BaseModel):\n",
    "    name: str\n",
    "    description: str\n",
    "\n",
    "items = [\n",
    "    {\"name\": \"Foo\", \"description\": \"There comes my hero\"},\n",
    "    {\"name\": \"Red\", \"description\": \"It's my aeroplane\"},\n",
    "]\n",
    "\n",
    "@app.get(\"/items/\", response_model=List[Item])\n",
    "def read_items():\n",
    "    return items\n",
    "```"
   ]
  },
  {
   "cell_type": "code",
   "execution_count": null,
   "id": "77c9b1d4-458a-4788-bef8-7d1e2d53d73a",
   "metadata": {},
   "outputs": [],
   "source": []
  },
  {
   "cell_type": "markdown",
   "id": "713cf4e0-c2cc-4ec0-85b1-2bb14e1683cc",
   "metadata": {},
   "source": [
    "## 15. Response Status Code\n",
    "\n",
    "- Status codes to be returned with a response can be defined in the `status_code` argument of the decorator.\n",
    "- Each error code has a standard use. For example,\n",
    "> 100 and above are for \"Information\" <br>\n",
    "> 200 and above are for \"Successful\" responses <br>\n",
    "> 300 and above are for \"Redirection\" <br>\n",
    "> 400 and above are for \"Client error\" responses <br>\n",
    "> 500 and above are for server errors\n",
    "\n",
    "- FastAPI provides status code variables in `fastapi.status` so that the developer does not have to remember them. For example, `status.HTTP_201_CREATED`."
   ]
  },
  {
   "cell_type": "code",
   "execution_count": null,
   "id": "a4c3d8a7-2f53-4dd5-b094-c5afa232db5e",
   "metadata": {},
   "outputs": [],
   "source": []
  },
  {
   "cell_type": "markdown",
   "id": "9fa2a6e3-21e4-463f-931a-13d724e50035",
   "metadata": {},
   "source": [
    "## 16. Form data\n",
    "\n",
    "- When you need to receive form fields instead of JSON, you can use Form.\n",
    "- To use forms, first install python-multipart with `pip install python-multipart`.\n",
    "\n",
    "```python\n",
    "from fastapi import FastAPI, Form\n",
    "\n",
    "@app.post(\"/login/\")\n",
    "def login(username: str = Form(...), password: str = Form(...)):\n",
    "    return {\"username\": username}\n",
    "```\n",
    "- Form parameters work the same way as `Body` or `Query`.\n",
    "\n",
    "```python\n",
    "@app.post(\"/login/\")\n",
    "\n",
    "def login(username: str = Form(...), password: str = Form(...)):\n",
    "    return {\"username\": username}\n",
    "```\n",
    "- Data from forms is normally encoded using the \"media type\" `application/x-www-form-urlencoded`."
   ]
  },
  {
   "cell_type": "code",
   "execution_count": null,
   "id": "9773f80e-7b35-4590-8079-c14953198dd8",
   "metadata": {},
   "outputs": [],
   "source": []
  },
  {
   "cell_type": "markdown",
   "id": "545f2a88-aca7-4b95-8b9c-8f88c3158581",
   "metadata": {},
   "source": [
    "## 17. Request files\n",
    "\n",
    "- You can define files to be uploaded by the client using File.\n",
    "- To receive uploaded files, first install python-multipart with `pip install python-multipart`.\n",
    "- The `File` and `UploadFile` methods can be used to handle uploaded file contents.\n",
    "\n",
    "Example:\n",
    "\n",
    "```python\n",
    "@app.post(\"/files/\")\n",
    "def create_file(file: bytes = File(...)):\n",
    "    return {\"file_size\": len(file)}\n",
    "\n",
    "\n",
    "@app.post(\"/uploadfile/\")\n",
    "def create_upload_file(file: UploadFile = File(...)):\n",
    "    return {\"filename\": file.filename}\n",
    "```\n",
    "\n",
    "- `File` only works well for small files (it tries to store the content of files on memory). Whereas, `UploadFile` also works well with large files.\n",
    "- More details on handling uploaded file contents is outside the scope of these notes, for now."
   ]
  },
  {
   "cell_type": "code",
   "execution_count": null,
   "id": "3bc5d73e-7331-4be3-9108-9992eca7699b",
   "metadata": {},
   "outputs": [],
   "source": []
  },
  {
   "cell_type": "markdown",
   "id": "ca6628bf-30a0-4223-a626-16f2ff0812f5",
   "metadata": {},
   "source": [
    "## 18. Request Forms and Files\n",
    "\n",
    "- You can define files and form fields at the same time using File and Form.\n",
    "- Create file and form parameters the same way you would for Body or Query:\n",
    "\n",
    "```python\n",
    "from fastapi import FastAPI, File, Form, UploadFile\n",
    "\n",
    "@app.post(\"/files/\")\n",
    "def create_file(\n",
    "    file: bytes = File(...), fileb: UploadFile = File(...), token: str = Form(...)\n",
    "):\n",
    "    return {\n",
    "        \"file_size\": len(file),\n",
    "        \"token\": token,\n",
    "        \"fileb_content_type\": fileb.content_type,\n",
    "    }\n",
    "```"
   ]
  },
  {
   "cell_type": "code",
   "execution_count": null,
   "id": "c9f714bb-5b48-4381-a1c7-314aeaba30ec",
   "metadata": {},
   "outputs": [],
   "source": []
  },
  {
   "cell_type": "markdown",
   "id": "4d989bf5-67ab-4662-a825-bdc9baad2dbb",
   "metadata": {},
   "source": [
    "## 19. Handling Errors\n",
    "\n",
    "- "
   ]
  },
  {
   "cell_type": "code",
   "execution_count": null,
   "id": "85953cbc-5e32-4410-8ee4-b37b577dce51",
   "metadata": {},
   "outputs": [],
   "source": []
  },
  {
   "cell_type": "code",
   "execution_count": null,
   "id": "0810ddc9-2844-4db1-9c9d-34f58f27e89f",
   "metadata": {},
   "outputs": [],
   "source": []
  }
 ],
 "metadata": {
  "kernelspec": {
   "display_name": "Python 3 (ipykernel)",
   "language": "python",
   "name": "python3"
  },
  "language_info": {
   "codemirror_mode": {
    "name": "ipython",
    "version": 3
   },
   "file_extension": ".py",
   "mimetype": "text/x-python",
   "name": "python",
   "nbconvert_exporter": "python",
   "pygments_lexer": "ipython3",
   "version": "3.9.7"
  }
 },
 "nbformat": 4,
 "nbformat_minor": 5
}
