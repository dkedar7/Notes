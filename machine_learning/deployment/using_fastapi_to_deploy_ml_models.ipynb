{
 "cells": [
  {
   "cell_type": "raw",
   "id": "9266df3f",
   "metadata": {
    "slideshow": {
     "slide_type": "skip"
    },
    "tags": []
   },
   "source": [
    "---\n",
    "title: \"Using FastAPI to Deploy ML Models\"\n",
    "author: \"Kedar Dabhadkar\"\n",
    "date: 2021-12-19T05:46:18.464519\n",
    "description: \"Notes on using FastAPI as I go through the online documentation\"\n",
    "type: technical_note\n",
    "draft: true\n",
    "---"
   ]
  },
  {
   "cell_type": "markdown",
   "id": "cb350eae",
   "metadata": {
    "slideshow": {
     "slide_type": "slide"
    },
    "tags": []
   },
   "source": [
    "<h1><center>Using FastAPI to Deploy ML Models</center></h1>\n",
    "<center><h4>Notes on using FastAPI as I go through the online documentation</h4></center>\n",
    "\n",
    "<br>\n",
    "<br>\n",
    "\n",
    "Kedar Dabhadkar <br>\n",
    "Data Scientist<br>\n",
    "linkedin.com/in/dkedar7"
   ]
  },
  {
   "cell_type": "markdown",
   "id": "79c8b91b-7a16-4b0b-9437-ca55cbe1f495",
   "metadata": {
    "slideshow": {
     "slide_type": "slide"
    },
    "tags": []
   },
   "source": [
    "## What is FastAPI?\n",
    "\n",
    "- This is what FastAPI is"
   ]
  },
  {
   "cell_type": "markdown",
   "id": "f45ddc78-8e6a-47b6-bd51-73d3767e5d9f",
   "metadata": {
    "slideshow": {
     "slide_type": "slide"
    },
    "tags": []
   },
   "source": [
    "## First steps\n",
    "\n",
    "- This is simply how we define an app and write our first GET request.\n",
    "\n",
    "```python\n",
    "from fastapi import FastAPI\n",
    "\n",
    "app = FastAPI()\n",
    "\n",
    "@app.get(\"/\")\n",
    "async def root():\n",
    "    return {\"message\": \"Hello World\"}\n",
    "```\n",
    "\n",
    "- If this code is saved to main.py, use the follwowing to run it from the command line:\n",
    "```\n",
    "uvicorn main:app --reload\n",
    "```\n",
    "\n",
    "- FastAPI also automatically generates a Swagger documentation at 'http://127.0.0.1:8000'\n",
    " ```"
   ]
  },
  {
   "cell_type": "code",
   "execution_count": null,
   "id": "0950478d-78e4-44d2-859a-ea8ef40813a4",
   "metadata": {
    "slideshow": {
     "slide_type": "skip"
    },
    "tags": []
   },
   "outputs": [],
   "source": []
  },
  {
   "cell_type": "markdown",
   "id": "2f079b9e-69cf-45d0-a868-07992521bb53",
   "metadata": {
    "slideshow": {
     "slide_type": "slide"
    },
    "tags": []
   },
   "source": [
    "## 1. Path parameters\n",
    "\n",
    "- Path parameters or variables can be defined in the decorator and also as an input to the function.\n",
    "\n",
    "```python\n",
    "@app.get(\"/items/{item_id}\")\n",
    "def read_item(item_id: int):\n",
    "    return {\"item_id\": item_id}\n",
    "```\n",
    "- Value of 'item_id' is passed to the function\n",
    "- This function is run when a user accesses the endpoint 'http://127.0.0.1:8000/items/3'"
   ]
  },
  {
   "cell_type": "markdown",
   "id": "0d3f17ff-98d7-4d0f-a006-91b85f7c50ca",
   "metadata": {
    "slideshow": {
     "slide_type": "skip"
    },
    "tags": []
   },
   "source": []
  },
  {
   "cell_type": "markdown",
   "id": "2354ff03-6b00-4a49-ad3b-656589f9a149",
   "metadata": {
    "slideshow": {
     "slide_type": "subslide"
    },
    "tags": []
   },
   "source": [
    "- Also, order matters.\n",
    "- In the following example, although `/users/me` matches with the pattern `/users/{user_id}`, it's executed first because it appears first\n",
    "\n",
    "```python\n",
    "@app.get(\"/users/me\")\n",
    "def read_user_me():\n",
    "    return {\"user_id\": \"the current user\"}\n",
    "\n",
    "@app.get(\"/users/{user_id}\")\n",
    "def read_user(user_id: str):\n",
    "    return {\"user_id\": user_id}\n",
    "```"
   ]
  },
  {
   "cell_type": "code",
   "execution_count": null,
   "id": "e92254aa-d045-42e5-abff-c4835a82d1ee",
   "metadata": {
    "slideshow": {
     "slide_type": "skip"
    },
    "tags": []
   },
   "outputs": [],
   "source": []
  },
  {
   "cell_type": "markdown",
   "id": "273e7eac-51ee-44ca-bd3a-0e6767cf9f00",
   "metadata": {
    "slideshow": {
     "slide_type": "slide"
    },
    "tags": []
   },
   "source": [
    "## 2. Query Parameters\n",
    "\n",
    "- All the function arguments that are not a part of the path parameters are treated as query parameters.\n",
    "- Query parameters appear after `?` in a URL and are separated by `&`\n",
    "\n",
    "```python\n",
    "@app.get(\"/items/\")\n",
    "async def read_item(skip: int = 0, limit: int = 10):\n",
    "    return data[skip : skip + limit]\n",
    "```\n",
    "\n",
    "- If a default value is set in the function arguments, these parameters become optional. If not, they are mandatory."
   ]
  },
  {
   "cell_type": "markdown",
   "id": "8c933c4b-96e6-4c10-8379-d1b8da02d655",
   "metadata": {
    "slideshow": {
     "slide_type": "subslide"
    },
    "tags": []
   },
   "source": [
    "## Multiple path and query parameters\n",
    "\n",
    "- You can declare multiple path parameters and query parameters at the same time, FastAPI knows which is which.\n",
    "- They will be detected by name, so the order doesn't matter.\n",
    "- For example,\n",
    "```python\n",
    "@app.get(\"/users/{user_id}/items/{item_id}\")\n",
    "async def read_user_item(\n",
    "    user_id: int, item_id: str, q: str = None, short: bool = False\n",
    ")\n",
    "...\n",
    "```"
   ]
  },
  {
   "cell_type": "code",
   "execution_count": null,
   "id": "a4924278-4ff1-43f4-a141-8d2aa69c7847",
   "metadata": {
    "slideshow": {
     "slide_type": "skip"
    },
    "tags": []
   },
   "outputs": [],
   "source": []
  },
  {
   "cell_type": "markdown",
   "id": "0c5f9e73-9943-4cc9-8089-ea32f97ce9db",
   "metadata": {
    "slideshow": {
     "slide_type": "slide"
    },
    "tags": []
   },
   "source": [
    "## 3. Request Body\n",
    "\n",
    "- A request body is data sent by the client to your API.\n",
    "- To declare a request body, you use Pydantic models.\n",
    "- A request body is usually applicable to non-GET APIs (most POST)\n",
    "\n",
    "```python\n",
    "from typing import Optional\n",
    "from fastapi import FastAPI\n",
    "from pydantic import BaseModel\n",
    "\n",
    "class Item(BaseModel):\n",
    "    name: str\n",
    "    description: Optional[str] = None\n",
    "    price: float\n",
    "    tax: Optional[float] = None\n",
    "\n",
    "app = FastAPI()\n",
    "\n",
    "@app.post(\"/items/\")\n",
    "async def create_item(item: Item):\n",
    "    return item\n",
    "```"
   ]
  },
  {
   "cell_type": "code",
   "execution_count": null,
   "id": "8992e57d-69c8-4ec5-bf46-0b10198141de",
   "metadata": {
    "slideshow": {
     "slide_type": "skip"
    },
    "tags": []
   },
   "outputs": [],
   "source": []
  },
  {
   "cell_type": "markdown",
   "id": "3922df4f-d074-4a88-80ce-c01b235c08fd",
   "metadata": {
    "slideshow": {
     "slide_type": "subslide"
    },
    "tags": []
   },
   "source": [
    "## Request body + path + query parameters\n",
    "\n",
    "- You can also declare body, path and query parameters, all at the same time\n",
    "\n",
    "```python\n",
    "@app.put(\"/items/{item_id}\")\n",
    "def create_item(item_id: int, item: Item, q: Optional[str] = None):\n",
    "    result = {\"item_id\": item_id, **item.dict()}\n",
    "    if q:\n",
    "        result.update({\"q\": q})\n",
    "    return result\n",
    "```\n",
    "\n",
    "- If the parameter is also declared in the path, it will be used as a path parameter.\n",
    "- If the parameter is of a singular type (like int, float, str, bool, etc) it will be interpreted as a query parameter\n",
    "- If the parameter is declared to be of the type of a Pydantic model, it will be interpreted as a request body."
   ]
  },
  {
   "cell_type": "code",
   "execution_count": null,
   "id": "18b525dc-8f8c-4089-ae23-0a4d75f802a1",
   "metadata": {
    "slideshow": {
     "slide_type": "skip"
    },
    "tags": []
   },
   "outputs": [],
   "source": []
  },
  {
   "cell_type": "markdown",
   "id": "83ef8503-249e-4cd2-8b37-2904b458ba68",
   "metadata": {
    "slideshow": {
     "slide_type": "slide"
    },
    "tags": []
   },
   "source": [
    "## 4. Query Parameters and String Validations\n",
    "\n",
    "- FastAPI allows you to declare additional information and validation for your parameters.\n",
    "\n",
    "**Example 1.** Length of parameter doesn't exceed 50 characters and it is optional\n",
    "```python\n",
    "from fastapi import FastAPI, Query\n",
    "\n",
    "@app.get(\"/items/\")\n",
    "def read_items(q: Optional[str] = Query(None, max_length=50)):\n",
    "    ...\n",
    "```\n",
    "The `Optional` keyword is only to guide our code editor. Here, `None` is the default value.\n",
    "\n",
    "\n",
    "**Example 2.** In addition, the minimum length should be 3\n",
    "```python\n",
    "@app.get(\"/items/\")\n",
    "def read_items(q: Optional[str] = Query(None, min_length=3, max_length=50)):\n",
    "    ...\n",
    "```\n",
    "\n",
    "\n",
    "**Example 3.** It should match the regex `^fixedquery$`\n",
    "```python\n",
    "@app.get(\"/items/\")\n",
    "def read_items(q: Optional[str] = Query(None, min_length=3, max_length=50, regex=\"^fixedquery$\")):\n",
    "    ...\n",
    "```"
   ]
  },
  {
   "cell_type": "markdown",
   "id": "ba77a406-fe4d-441b-b2af-91f6bcc019a6",
   "metadata": {
    "slideshow": {
     "slide_type": "subslide"
    },
    "tags": []
   },
   "source": [
    "**Example 4**. When you want to declare a variable as required while using `Query`\n",
    "```python\n",
    "@app.get(\"/items/\")\n",
    "def read_items(q: Optional[str] = Query(..., min_length=3)):\n",
    "    ...\n",
    "```\n",
    "`...` is called the Ellipsis in Python.\n",
    "\n",
    "**Example 5.** Query parameter list / multiple values\n",
    "```python\n",
    "@app.get(\"/items/\")\n",
    "def read_items(q: Optional[List[str]] = Query(None)):\n",
    "    ...\n",
    "```\n",
    "\n",
    "**Example 6.** Query parameter list / multiple values with defaults\n",
    "```python\n",
    "@app.get(\"/items/\")\n",
    "def read_items(q: Optional[List[str]] = Query([\"foo\", \"bar\"])):\n",
    "    ...\n",
    "```"
   ]
  },
  {
   "cell_type": "markdown",
   "id": "9e9caf49-4305-450f-bd18-3959b50d17df",
   "metadata": {
    "slideshow": {
     "slide_type": "subslide"
    },
    "tags": []
   },
   "source": [
    "**Example 7.** Declare more metadata\n",
    "```python\n",
    "@app.get(\"/items/\")\n",
    "def read_items(\n",
    "    q: Optional[str] = Query(\n",
    "        None,\n",
    "        alias=\"item-query\",\n",
    "        title=\"Query string\",\n",
    "        description=\"Query string for the items to search in the database that have a good match\",\n",
    "        min_length=3,\n",
    "        max_length=50,\n",
    "        regex=\"^fixedquery$\",\n",
    "        deprecated=True,\n",
    "    )\n",
    "):\n",
    "    ...\n",
    "```\n",
    "This indicates that the parameter\n",
    " - Is an alias for `item-query`\n",
    " - Has the mentioned title and decription\n",
    " - And is deprecated"
   ]
  },
  {
   "cell_type": "code",
   "execution_count": null,
   "id": "3e95c860-2b32-45fa-b44c-6d32b1979311",
   "metadata": {
    "slideshow": {
     "slide_type": "skip"
    },
    "tags": []
   },
   "outputs": [],
   "source": []
  },
  {
   "cell_type": "markdown",
   "id": "3a30e180-70fd-47cf-a04b-6df0a2c181d4",
   "metadata": {},
   "source": [
    "## 5. Path parameters and numeric validations\n",
    "\n"
   ]
  },
  {
   "cell_type": "markdown",
   "id": "a999748c-8824-4881-aa79-02effb049feb",
   "metadata": {},
   "source": [
    "### Path parameters\n",
    "\n",
    "- You can declare the same type of validations and metadata for path parameters with Path.\n",
    "- You can declare all the same parameters as for `Query`.\n",
    "\n",
    "For example,\n",
    "```python\n",
    "@app.get(\"/items/{item_id}\")\n",
    "def read_items(\n",
    "    item_id: int = Path(..., title=\"The ID of the item to get\"),\n",
    "    q: Optional[str] = Query(None, alias=\"item-query\"),\n",
    "):\n",
    "    ...\n",
    "```"
   ]
  },
  {
   "cell_type": "markdown",
   "id": "8e8f627a-57da-44be-b938-734d888af8ad",
   "metadata": {},
   "source": [
    "### Numeric validations\n",
    "\n",
    "- Just like string validations, you can also define numeric validations.\n",
    "- Examples: `ge`: greater than or equal to, `le`: less than or equal to, `gt`: greater than, and `lt`: less than.\n",
    "\n",
    "```python\n",
    "@app.get(\"/items/{item_id}\")\n",
    "def read_items(\n",
    "    item_id: int = Path(..., gt=0, lt=1)\n",
    "):\n",
    "    ...\n",
    "```"
   ]
  },
  {
   "cell_type": "code",
   "execution_count": null,
   "id": "25cfe882-4627-4307-909c-cd340209933d",
   "metadata": {},
   "outputs": [],
   "source": []
  },
  {
   "cell_type": "markdown",
   "id": "1d05b09d-8223-4bd5-9b72-334b36de50a2",
   "metadata": {},
   "source": [
    "## 6. Multi-body parameters\n",
    "\n",
    "- Like `Query` for query params and `Path` for path params, FastAPI has `Body` for body parameters.\n",
    "- All the same arguments apply for body params\n",
    "- As we saw earlier, FastAPI identifies body parameters if they are instances of `BaseModel`.\n",
    "\n",
    "Example of defining path, query and body parameters together\n",
    "```python\n",
    "class Item(BaseModel):\n",
    "    name: str\n",
    "    description: Optional[str] = None\n",
    "    price: float\n",
    "    tax: Optional[float] = None\n",
    "    \n",
    "def update_item(\n",
    "    item_id: int = Path(..., title=\"The ID of the item to get\", ge=0, le=1000),\n",
    "    q: Optional[str] = None,\n",
    "    item: Optional[Item] = None,\n",
    "):\n",
    "    ...\n",
    "```"
   ]
  },
  {
   "cell_type": "markdown",
   "id": "29301b29-4831-4291-ae56-d9a99f292bf0",
   "metadata": {},
   "source": [
    "### Specifying multiple body parameters\n",
    "\n",
    "- Simply define multiple `BaseModel` derived classes\n",
    "\n",
    "```python\n",
    "class Item(BaseModel):\n",
    "    name: str\n",
    "    description: Optional[str] = None\n",
    "    price: float\n",
    "    tax: Optional[float] = None\n",
    "\n",
    "\n",
    "class User(BaseModel):\n",
    "    username: str\n",
    "    full_name: Optional[str] = None\n",
    " ```\n",
    " \n",
    " - The expected body should look like this\n",
    " ```json\n",
    " {\n",
    "    \"item\": {\n",
    "        \"name\": \"Foo\",\n",
    "        \"description\": \"The pretender\",\n",
    "        \"price\": 42.0,\n",
    "        \"tax\": 3.2\n",
    "    },\n",
    "    \"user\": {\n",
    "        \"username\": \"dave\",\n",
    "        \"full_name\": \"Dave Grohl\"\n",
    "    }\n",
    "}\n",
    "```\n",
    "\n",
    "- Or the body parameters can be singular values\n",
    "```python\n",
    "def update_item(\n",
    "    item_id: int, item: Item, user: User, importance: int = Body(..., title=\"\", description=\"\")\n",
    "):\n",
    "```\n",
    "\n",
    "In this case, FastAPI will expect a body like:\n",
    "```json\n",
    "{\n",
    "    \"item\": {\n",
    "        \"name\": \"Foo\",\n",
    "        \"description\": \"The pretender\",\n",
    "        \"price\": 42.0,\n",
    "        \"tax\": 3.2\n",
    "    },\n",
    "    \"user\": {\n",
    "        \"username\": \"dave\",\n",
    "        \"full_name\": \"Dave Grohl\"\n",
    "    },\n",
    "    \"importance\": 5\n",
    "}\n",
    "```"
   ]
  },
  {
   "cell_type": "code",
   "execution_count": null,
   "id": "4803de3f-68fb-4eb4-98c3-3ff61a5e1633",
   "metadata": {},
   "outputs": [],
   "source": []
  },
  {
   "cell_type": "markdown",
   "id": "ce58f7d0-7ecd-40a2-81b4-15c59599aaa0",
   "metadata": {},
   "source": [
    "## 7. Body - Fields\n",
    "\n",
    "- You can declare validation and metadata inside of Pydantic models using Pydantic's `Field`.\n",
    "\n",
    "- `Field` works the same way as Query, Path and Body, it has all the same parameters, etc.\n",
    "\n",
    "\n",
    "```python\n",
    "from pydantic import BaseModel, Field\n",
    "\n",
    "class Item(BaseModel):\n",
    "    name: str\n",
    "    description: Optional[str] = Field(\n",
    "        None, title=\"The description of the item\", max_length=300\n",
    "    )\n",
    "    price: float = Field(..., gt=0, description=\"The price must be greater than zero\")\n",
    "    tax: Optional[float] = None\n",
    "```"
   ]
  },
  {
   "cell_type": "code",
   "execution_count": null,
   "id": "7530fb0c-415e-4460-9c0b-5bc2221a31d7",
   "metadata": {},
   "outputs": [],
   "source": []
  },
  {
   "cell_type": "markdown",
   "id": "720fa25d-d63c-4c7e-b1d3-6cf8a6deef7a",
   "metadata": {},
   "source": [
    "## 8. Body - Nested Models"
   ]
  },
  {
   "cell_type": "markdown",
   "id": "80e61696-02e4-4338-bcd8-229e5bddf39d",
   "metadata": {},
   "source": [
    "### How do we have arrays/ lists in body parameters?\n",
    "\n",
    "- Use `List` datatype and include which type of objects should be entered in this.\n",
    "\n",
    "Example:\n",
    "```python\n",
    "from typing import List, Optional, Set\n",
    "\n",
    "class Item(BaseModel):\n",
    "    name: str\n",
    "    description: Optional[str] = None\n",
    "    price: float\n",
    "    tax: Optional[float] = None\n",
    "    tags: List[str] = []\n",
    "```"
   ]
  },
  {
   "cell_type": "markdown",
   "id": "c4d0f548-40f5-4302-9ccb-c09cac96110f",
   "metadata": {},
   "source": [
    "### How do we have nested models?\n",
    "\n",
    "- These Pydantic models act like `dict`s.\n",
    "\n",
    "```python\n",
    "class Image(BaseModel):\n",
    "    url: str\n",
    "    name: str\n",
    "\n",
    "class Item(BaseModel):\n",
    "    name: str\n",
    "    description: Optional[str] = None\n",
    "    price: float\n",
    "    tax: Optional[float] = None\n",
    "    tags: Set[str] = []\n",
    "    image: Optional[Image] = None\n",
    "```\n",
    "\n",
    "- Or you can also have the nested model as a list:\n",
    "\n",
    "```python\n",
    "class Image(BaseModel):\n",
    "    url: str\n",
    "    name: str\n",
    "\n",
    "class Item(BaseModel):\n",
    "    name: str\n",
    "    description: Optional[str] = None\n",
    "    price: float\n",
    "    tax: Optional[float] = None\n",
    "    tags: Set[str] = []\n",
    "    image: Optional[List[Image]] = None\n",
    "```"
   ]
  },
  {
   "cell_type": "code",
   "execution_count": null,
   "id": "91d4fabd-d02e-473d-962e-f0f0b10c0b04",
   "metadata": {},
   "outputs": [],
   "source": []
  },
  {
   "cell_type": "markdown",
   "id": "aef6516c-34d9-4d11-bc22-2c166163eaa9",
   "metadata": {},
   "source": [
    "## 9. Declare Request Example Data\n",
    "\n",
    "- You can declare an example for a Pydantic model using `Config` and `schema_extra`.\n",
    "\n",
    "```python\n",
    "class Item(BaseModel):\n",
    "    name: str\n",
    "    description: Optional[str] = None\n",
    "    price: float\n",
    "    tax: Optional[float] = None\n",
    "\n",
    "    class Config:\n",
    "        schema_extra = {\n",
    "            \"example\": {\n",
    "                \"name\": \"Foo\",\n",
    "                \"description\": \"A very nice Item\",\n",
    "                \"price\": 35.4,\n",
    "                \"tax\": 3.2,\n",
    "            }\n",
    "        }\n",
    "```"
   ]
  },
  {
   "cell_type": "markdown",
   "id": "769090c7-c137-40d8-bf24-5c75ff7118ab",
   "metadata": {},
   "source": [
    "### Using `example`\n",
    "\n",
    "- When using any of: `Path()`, `Query()`, `Header()`, `Cookie()`, `Body()`, `Form()`, `File()`\n",
    "you can also declare a data example or a group of examples with additional information that will be added to OpenAPI.\n",
    "\n",
    "```python\n",
    "@app.put(\"/items/{item_id}\")\n",
    "def update_item(\n",
    "    item_id: int,\n",
    "    item: Item = Body(\n",
    "        ...,\n",
    "        example={\n",
    "            \"name\": \"Foo\",\n",
    "            \"description\": \"A very nice Item\",\n",
    "            \"price\": 35.4,\n",
    "            \"tax\": 3.2,\n",
    "        },\n",
    "    ),\n",
    "):\n",
    "    ...\n",
    "````"
   ]
  },
  {
   "cell_type": "code",
   "execution_count": null,
   "id": "2ba1a22f-4cc1-4e65-9fa1-46cc25d983f9",
   "metadata": {},
   "outputs": [],
   "source": []
  },
  {
   "cell_type": "markdown",
   "id": "321cb9ab-dfad-4673-b0b6-9bab66afbf87",
   "metadata": {},
   "source": [
    "## 10. Extra data types\n",
    " List of additionl data types:\n",
    "https://fastapi.tiangolo.com/tutorial/extra-data-types/"
   ]
  },
  {
   "cell_type": "code",
   "execution_count": null,
   "id": "d42ed27d-b8a4-4802-961f-348388eae1ea",
   "metadata": {},
   "outputs": [],
   "source": []
  },
  {
   "cell_type": "markdown",
   "id": "280baddc-8d07-4d69-918c-26a47b6c68a0",
   "metadata": {},
   "source": [
    "## 11. Cookie parameters\n",
    "\n"
   ]
  },
  {
   "cell_type": "code",
   "execution_count": null,
   "id": "2b8e782a-9fe6-411f-9ce5-3473a533ffe7",
   "metadata": {},
   "outputs": [],
   "source": [
    "\n"
   ]
  }
 ],
 "metadata": {
  "kernelspec": {
   "display_name": "Python 3 (ipykernel)",
   "language": "python",
   "name": "python3"
  },
  "language_info": {
   "codemirror_mode": {
    "name": "ipython",
    "version": 3
   },
   "file_extension": ".py",
   "mimetype": "text/x-python",
   "name": "python",
   "nbconvert_exporter": "python",
   "pygments_lexer": "ipython3",
   "version": "3.9.7"
  }
 },
 "nbformat": 4,
 "nbformat_minor": 5
}
